{
  "nbformat": 4,
  "nbformat_minor": 0,
  "metadata": {
    "colab": {
      "provenance": [],
      "authorship_tag": "ABX9TyMiPiTRJMTBiDxO9ChC6RCZ",
      "include_colab_link": true
    },
    "kernelspec": {
      "name": "python3",
      "display_name": "Python 3"
    },
    "language_info": {
      "name": "python"
    }
  },
  "cells": [
    {
      "cell_type": "markdown",
      "metadata": {
        "id": "view-in-github",
        "colab_type": "text"
      },
      "source": [
        "<a href=\"https://colab.research.google.com/github/elbyvaz/data_engineering/blob/main/spark/IMDB_dataset_movies.ipynb\" target=\"_parent\"><img src=\"https://colab.research.google.com/assets/colab-badge.svg\" alt=\"Open In Colab\"/></a>"
      ]
    },
    {
      "cell_type": "code",
      "execution_count": 1,
      "metadata": {
        "colab": {
          "base_uri": "https://localhost:8080/"
        },
        "id": "RBYPCwtY4Yj-",
        "outputId": "dafe53f9-d3f0-405e-9395-af5fd93bb307"
      },
      "outputs": [
        {
          "output_type": "stream",
          "name": "stdout",
          "text": [
            "Collecting pyspark\n",
            "  Downloading pyspark-3.5.0.tar.gz (316.9 MB)\n",
            "\u001b[2K     \u001b[90m━━━━━━━━━━━━━━━━━━━━━━━━━━━━━━━━━━━━━━━━\u001b[0m \u001b[32m316.9/316.9 MB\u001b[0m \u001b[31m3.7 MB/s\u001b[0m eta \u001b[36m0:00:00\u001b[0m\n",
            "\u001b[?25h  Preparing metadata (setup.py) ... \u001b[?25l\u001b[?25hdone\n",
            "Requirement already satisfied: py4j==0.10.9.7 in /usr/local/lib/python3.10/dist-packages (from pyspark) (0.10.9.7)\n",
            "Building wheels for collected packages: pyspark\n",
            "  Building wheel for pyspark (setup.py) ... \u001b[?25l\u001b[?25hdone\n",
            "  Created wheel for pyspark: filename=pyspark-3.5.0-py2.py3-none-any.whl size=317425345 sha256=361209aee922c4882e4395e5199a3e8b13c5b64731915b5f619af1634a891734\n",
            "  Stored in directory: /root/.cache/pip/wheels/41/4e/10/c2cf2467f71c678cfc8a6b9ac9241e5e44a01940da8fbb17fc\n",
            "Successfully built pyspark\n",
            "Installing collected packages: pyspark\n",
            "Successfully installed pyspark-3.5.0\n"
          ]
        }
      ],
      "source": [
        "# install Google Colab pyspark\n",
        "!pip install pyspark"
      ]
    },
    {
      "cell_type": "code",
      "source": [
        "# import pyspark\n",
        "from pyspark.sql import SparkSession\n",
        "\n",
        "# Spark entry point\n",
        "spark = SparkSession \\\n",
        "    .builder \\\n",
        "    .appName(\"IMDB dataset movies\") \\\n",
        "    .getOrCreate()\n",
        "\n",
        "spark.version"
      ],
      "metadata": {
        "id": "9QfArzww4egd"
      },
      "execution_count": null,
      "outputs": []
    },
    {
      "cell_type": "code",
      "source": [
        "# read movie metadata file\n",
        "df_titles = spark.read.csv('/content/sample_data/title_basics.tsv', header=True, inferSchema=True, sep='\\t')\n",
        "df_titles.printSchema()"
      ],
      "metadata": {
        "id": "T3qqFQc34ekW"
      },
      "execution_count": null,
      "outputs": []
    },
    {
      "cell_type": "code",
      "source": [
        "# total of lines\n",
        "df_titles.count()"
      ],
      "metadata": {
        "id": "dNDKm5AY6Spp"
      },
      "execution_count": null,
      "outputs": []
    },
    {
      "cell_type": "code",
      "source": [
        "# read movie ratings file\n",
        "df_ratings = spark.read.csv('/content/sample_data/title_ratings.tsv', header=True, inferSchema=True, sep='\\t')\n",
        "df_ratings.printSchema()"
      ],
      "metadata": {
        "id": "8XFCV_0R4eng"
      },
      "execution_count": null,
      "outputs": []
    },
    {
      "cell_type": "code",
      "source": [
        "# total of lines\n",
        "df_ratings.count()"
      ],
      "metadata": {
        "id": "cuKmIrNU6ZFj"
      },
      "execution_count": null,
      "outputs": []
    },
    {
      "cell_type": "code",
      "source": [
        "# create a unit dataframe (join)\n",
        "df_result = df_titles.join(df_ratings)\n",
        "df_result.printSchema()"
      ],
      "metadata": {
        "id": "5Z8ngUs44eqb"
      },
      "execution_count": null,
      "outputs": []
    },
    {
      "cell_type": "code",
      "source": [
        "# to use as sql\n",
        "df_result.createOrReplaceTempView(\"estabelecimentos\")"
      ],
      "metadata": {
        "id": "MK6DLN6p47yl"
      },
      "execution_count": null,
      "outputs": []
    },
    {
      "cell_type": "code",
      "source": [
        "# total of movies started in 2015\n",
        "spark.sql(\"SELECT COUNT(*) FROM estabelecimentos WHERE LOGRADOURO IS NULL\").show()"
      ],
      "metadata": {
        "id": "o4DiPUm8471p"
      },
      "execution_count": null,
      "outputs": []
    },
    {
      "cell_type": "code",
      "source": [
        "# more frequent genre"
      ],
      "metadata": {
        "id": "hss2rNEb6mnI"
      },
      "execution_count": null,
      "outputs": []
    },
    {
      "cell_type": "code",
      "source": [
        "# genre with best rating"
      ],
      "metadata": {
        "id": "tHyAOX2g6mwl"
      },
      "execution_count": null,
      "outputs": []
    },
    {
      "cell_type": "code",
      "source": [
        "# video game of adventure with best rating in 2020"
      ],
      "metadata": {
        "id": "qRRBIKde6m0d"
      },
      "execution_count": null,
      "outputs": []
    },
    {
      "cell_type": "code",
      "source": [
        "# total distinct movie titles"
      ],
      "metadata": {
        "id": "_GK9dz166m4p"
      },
      "execution_count": null,
      "outputs": []
    },
    {
      "cell_type": "code",
      "source": [
        "# media duration of adult movies"
      ],
      "metadata": {
        "id": "wKuXpvm_70R4"
      },
      "execution_count": null,
      "outputs": []
    },
    {
      "cell_type": "code",
      "source": [
        "# total of movies with primaty title different original title"
      ],
      "metadata": {
        "id": "uVUpoYEr70VS"
      },
      "execution_count": null,
      "outputs": []
    },
    {
      "cell_type": "code",
      "source": [
        "# movie with longest name"
      ],
      "metadata": {
        "id": "p_EaRdd870Y4"
      },
      "execution_count": null,
      "outputs": []
    },
    {
      "cell_type": "code",
      "source": [
        "# movie with highest number of votes"
      ],
      "metadata": {
        "id": "FL-Hnx4n70bi"
      },
      "execution_count": null,
      "outputs": []
    },
    {
      "cell_type": "code",
      "source": [
        "# lowest average grade of a movie"
      ],
      "metadata": {
        "id": "AlOEzaxz70et"
      },
      "execution_count": null,
      "outputs": []
    }
  ]
}