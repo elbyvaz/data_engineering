{
  "nbformat": 4,
  "nbformat_minor": 0,
  "metadata": {
    "colab": {
      "provenance": [],
      "authorship_tag": "ABX9TyMqozDQtBruBqvAqdmGonbq",
      "include_colab_link": true
    },
    "kernelspec": {
      "name": "python3",
      "display_name": "Python 3"
    },
    "language_info": {
      "name": "python"
    }
  },
  "cells": [
    {
      "cell_type": "markdown",
      "metadata": {
        "id": "view-in-github",
        "colab_type": "text"
      },
      "source": [
        "<a href=\"https://colab.research.google.com/github/elbyvaz/data_engineering/blob/main/spark/IMDB_dataset_movies.ipynb\" target=\"_parent\"><img src=\"https://colab.research.google.com/assets/colab-badge.svg\" alt=\"Open In Colab\"/></a>"
      ]
    },
    {
      "cell_type": "code",
      "execution_count": null,
      "metadata": {
        "colab": {
          "base_uri": "https://localhost:8080/"
        },
        "id": "RBYPCwtY4Yj-",
        "outputId": "175700d9-3b5b-4095-8109-d15297be1c75"
      },
      "outputs": [
        {
          "output_type": "stream",
          "name": "stdout",
          "text": [
            "Requirement already satisfied: pyspark in /usr/local/lib/python3.10/dist-packages (3.5.0)\n",
            "Requirement already satisfied: py4j==0.10.9.7 in /usr/local/lib/python3.10/dist-packages (from pyspark) (0.10.9.7)\n"
          ]
        }
      ],
      "source": [
        "# install Google Colab pyspark\n",
        "!pip install pyspark"
      ]
    },
    {
      "cell_type": "code",
      "source": [
        "# import pyspark\n",
        "from pyspark.sql import SparkSession\n",
        "\n",
        "# Spark entry point\n",
        "spark = SparkSession \\\n",
        "    .builder \\\n",
        "    .appName(\"IMDB dataset movies\") \\\n",
        "    .getOrCreate()\n",
        "\n",
        "spark.version"
      ],
      "metadata": {
        "id": "9QfArzww4egd",
        "colab": {
          "base_uri": "https://localhost:8080/",
          "height": 35
        },
        "outputId": "c1f8220a-0dd4-42ad-a7b3-3fcd0b74552a"
      },
      "execution_count": null,
      "outputs": [
        {
          "output_type": "execute_result",
          "data": {
            "text/plain": [
              "'3.5.0'"
            ],
            "application/vnd.google.colaboratory.intrinsic+json": {
              "type": "string"
            }
          },
          "metadata": {},
          "execution_count": 4
        }
      ]
    },
    {
      "cell_type": "code",
      "source": [
        "# read movie metadata file\n",
        "df_titles = spark.read.csv('/content/sample_data/title_basics.tsv', header=True, inferSchema=True, sep='\\t')\n",
        "df_titles.printSchema()"
      ],
      "metadata": {
        "id": "T3qqFQc34ekW",
        "colab": {
          "base_uri": "https://localhost:8080/"
        },
        "outputId": "fae1e8a8-cb4d-4ae0-f983-5ccfea0c9827"
      },
      "execution_count": null,
      "outputs": [
        {
          "output_type": "stream",
          "name": "stdout",
          "text": [
            "root\n",
            " |-- tconst: string (nullable = true)\n",
            " |-- titleType: string (nullable = true)\n",
            " |-- primaryTitle: string (nullable = true)\n",
            " |-- originalTitle: string (nullable = true)\n",
            " |-- isAdult: integer (nullable = true)\n",
            " |-- startYear: string (nullable = true)\n",
            " |-- endYear: string (nullable = true)\n",
            " |-- runtimeMinutes: string (nullable = true)\n",
            " |-- genres: string (nullable = true)\n",
            "\n"
          ]
        }
      ]
    },
    {
      "cell_type": "code",
      "source": [
        "# total of lines\n",
        "df_titles.count()"
      ],
      "metadata": {
        "id": "dNDKm5AY6Spp",
        "colab": {
          "base_uri": "https://localhost:8080/"
        },
        "outputId": "4f71a5ab-9f27-46e3-83fe-12218ffc5018"
      },
      "execution_count": null,
      "outputs": [
        {
          "output_type": "execute_result",
          "data": {
            "text/plain": [
              "2910502"
            ]
          },
          "metadata": {},
          "execution_count": 6
        }
      ]
    },
    {
      "cell_type": "code",
      "source": [
        "# read movie ratings file\n",
        "df_ratings = spark.read.csv('/content/sample_data/title_ratings.tsv', header=True, inferSchema=True, sep='\\t')\n",
        "df_ratings.printSchema()"
      ],
      "metadata": {
        "id": "8XFCV_0R4eng",
        "colab": {
          "base_uri": "https://localhost:8080/",
          "height": 211
        },
        "outputId": "d86f040e-b92c-400e-e6ac-e0e49d18e42e"
      },
      "execution_count": 3,
      "outputs": [
        {
          "output_type": "error",
          "ename": "NameError",
          "evalue": "name 'spark' is not defined",
          "traceback": [
            "\u001b[0;31m---------------------------------------------------------------------------\u001b[0m",
            "\u001b[0;31mNameError\u001b[0m                                 Traceback (most recent call last)",
            "\u001b[0;32m<ipython-input-3-fe5b576dc455>\u001b[0m in \u001b[0;36m<cell line: 2>\u001b[0;34m()\u001b[0m\n\u001b[1;32m      1\u001b[0m \u001b[0;31m# read movie ratings file\u001b[0m\u001b[0;34m\u001b[0m\u001b[0;34m\u001b[0m\u001b[0m\n\u001b[0;32m----> 2\u001b[0;31m \u001b[0mdf_ratings\u001b[0m \u001b[0;34m=\u001b[0m \u001b[0mspark\u001b[0m\u001b[0;34m.\u001b[0m\u001b[0mread\u001b[0m\u001b[0;34m.\u001b[0m\u001b[0mcsv\u001b[0m\u001b[0;34m(\u001b[0m\u001b[0;34m'/content/sample_data/title_ratings.tsv'\u001b[0m\u001b[0;34m,\u001b[0m \u001b[0mheader\u001b[0m\u001b[0;34m=\u001b[0m\u001b[0;32mTrue\u001b[0m\u001b[0;34m,\u001b[0m \u001b[0minferSchema\u001b[0m\u001b[0;34m=\u001b[0m\u001b[0;32mTrue\u001b[0m\u001b[0;34m,\u001b[0m \u001b[0msep\u001b[0m\u001b[0;34m=\u001b[0m\u001b[0;34m'\\t'\u001b[0m\u001b[0;34m)\u001b[0m\u001b[0;34m\u001b[0m\u001b[0;34m\u001b[0m\u001b[0m\n\u001b[0m\u001b[1;32m      3\u001b[0m \u001b[0mdf_ratings\u001b[0m\u001b[0;34m.\u001b[0m\u001b[0mprintSchema\u001b[0m\u001b[0;34m(\u001b[0m\u001b[0;34m)\u001b[0m\u001b[0;34m\u001b[0m\u001b[0;34m\u001b[0m\u001b[0m\n",
            "\u001b[0;31mNameError\u001b[0m: name 'spark' is not defined"
          ]
        }
      ]
    },
    {
      "cell_type": "code",
      "source": [
        "# total of lines\n",
        "df_ratings.count()"
      ],
      "metadata": {
        "id": "cuKmIrNU6ZFj",
        "colab": {
          "base_uri": "https://localhost:8080/"
        },
        "outputId": "89ab39ae-41bc-4003-cd79-2c5e5b8e64b3"
      },
      "execution_count": null,
      "outputs": [
        {
          "output_type": "execute_result",
          "data": {
            "text/plain": [
              "1182639"
            ]
          },
          "metadata": {},
          "execution_count": 8
        }
      ]
    },
    {
      "cell_type": "code",
      "source": [
        "# join dataframes without tconst column duplicated\n",
        "df_result = df_titles.join(df_ratings, df_titles.tconst == df_ratings.tconst, 'left').drop(df_ratings.tconst)\n",
        "df_result.printSchema()"
      ],
      "metadata": {
        "id": "5Z8ngUs44eqb",
        "colab": {
          "base_uri": "https://localhost:8080/"
        },
        "outputId": "48e6cc46-bb0a-4164-d68c-a1afa7b3de08"
      },
      "execution_count": null,
      "outputs": [
        {
          "output_type": "stream",
          "name": "stdout",
          "text": [
            "root\n",
            " |-- tconst: string (nullable = true)\n",
            " |-- titleType: string (nullable = true)\n",
            " |-- primaryTitle: string (nullable = true)\n",
            " |-- originalTitle: string (nullable = true)\n",
            " |-- isAdult: integer (nullable = true)\n",
            " |-- startYear: string (nullable = true)\n",
            " |-- endYear: string (nullable = true)\n",
            " |-- runtimeMinutes: string (nullable = true)\n",
            " |-- genres: string (nullable = true)\n",
            " |-- averageRating: double (nullable = true)\n",
            " |-- numVotes: integer (nullable = true)\n",
            "\n"
          ]
        }
      ]
    },
    {
      "cell_type": "code",
      "source": [
        "# total of lines\n",
        "df_result.count()"
      ],
      "metadata": {
        "colab": {
          "base_uri": "https://localhost:8080/"
        },
        "id": "A4YyWm_Ax4BP",
        "outputId": "b7ef9f3d-82d4-4e67-b4e4-20672b8213ed"
      },
      "execution_count": null,
      "outputs": [
        {
          "output_type": "execute_result",
          "data": {
            "text/plain": [
              "2910502"
            ]
          },
          "metadata": {},
          "execution_count": 24
        }
      ]
    },
    {
      "cell_type": "code",
      "source": [
        "# first lines\n",
        "df_result.show(5)"
      ],
      "metadata": {
        "colab": {
          "base_uri": "https://localhost:8080/"
        },
        "id": "Speiqzo4Ifhp",
        "outputId": "d04ad59e-4df5-4ff1-808c-1a2b3bf3c834"
      },
      "execution_count": null,
      "outputs": [
        {
          "output_type": "stream",
          "name": "stdout",
          "text": [
            "+----------+---------+--------------------+--------------------+-------+---------+-------+--------------+---------------+-------------+--------+\n",
            "|    tconst|titleType|        primaryTitle|       originalTitle|isAdult|startYear|endYear|runtimeMinutes|         genres|averageRating|numVotes|\n",
            "+----------+---------+--------------------+--------------------+-------+---------+-------+--------------+---------------+-------------+--------+\n",
            "| tt0000002|    short|Le clown et ses c...|Le clown et ses c...|      0|     1892|     \\N|             5|Animation,Short|          6.0|     233|\n",
            "| tt0000004|    short|         Un bon bock|         Un bon bock|      0|     1892|     \\N|            12|Animation,Short|          6.1|     152|\n",
            "|tt10925802|    movie|Pray: The Story o...|Pray: The Story o...|      0|     2020|     \\N|            71|    Documentary|          7.6|      28|\n",
            "|tt10925806|    video|Loch Ness Monster...|Loch Ness Monster...|      0|     2019|     \\N|            84|    Documentary|          6.2|      14|\n",
            "|tt10925808|    movie|Awaiting Identifi...|Awaiting Identifi...|      0|       \\N|     \\N|            \\N|          Drama|         NULL|    NULL|\n",
            "+----------+---------+--------------------+--------------------+-------+---------+-------+--------------+---------------+-------------+--------+\n",
            "only showing top 5 rows\n",
            "\n"
          ]
        }
      ]
    },
    {
      "cell_type": "code",
      "source": [
        "# to use as sql\n",
        "df_result.createOrReplaceTempView(\"imdb\")"
      ],
      "metadata": {
        "id": "MK6DLN6p47yl"
      },
      "execution_count": null,
      "outputs": []
    },
    {
      "cell_type": "code",
      "source": [
        "# distinct title type\n",
        "spark.sql(\"SELECT DISTINCT titleType FROM imdb\").show()"
      ],
      "metadata": {
        "colab": {
          "base_uri": "https://localhost:8080/"
        },
        "id": "DwNMoyn_yZeV",
        "outputId": "0d2fe6f0-3920-4d92-ffbf-ed30223b3aed"
      },
      "execution_count": null,
      "outputs": [
        {
          "output_type": "stream",
          "name": "stdout",
          "text": [
            "+------------+\n",
            "|   titleType|\n",
            "+------------+\n",
            "|    tvSeries|\n",
            "|tvMiniSeries|\n",
            "|     tvMovie|\n",
            "|   tvEpisode|\n",
            "|       movie|\n",
            "|   tvSpecial|\n",
            "|       video|\n",
            "|   videoGame|\n",
            "|     tvShort|\n",
            "|       short|\n",
            "|           0|\n",
            "+------------+\n",
            "\n"
          ]
        }
      ]
    },
    {
      "cell_type": "code",
      "source": [
        "# total of movies started in 2015\n",
        "spark.sql(\"SELECT COUNT(tconst) FROM imdb WHERE startYear = 2015 AND titleType in ('tvMovie', 'movie')\").show()\n",
        "# df_result.filter(df_result['startYear'] == 2015).count()"
      ],
      "metadata": {
        "id": "o4DiPUm8471p",
        "colab": {
          "base_uri": "https://localhost:8080/"
        },
        "outputId": "13cff2b9-f320-4b00-a277-2a05306fd620"
      },
      "execution_count": null,
      "outputs": [
        {
          "output_type": "stream",
          "name": "stdout",
          "text": [
            "+--------+\n",
            "|count(1)|\n",
            "+--------+\n",
            "|    1159|\n",
            "+--------+\n",
            "\n"
          ]
        }
      ]
    },
    {
      "cell_type": "code",
      "source": [
        "# more frequent genre"
      ],
      "metadata": {
        "id": "hss2rNEb6mnI"
      },
      "execution_count": null,
      "outputs": []
    },
    {
      "cell_type": "code",
      "source": [
        "# genre with best rating"
      ],
      "metadata": {
        "id": "tHyAOX2g6mwl"
      },
      "execution_count": null,
      "outputs": []
    },
    {
      "cell_type": "code",
      "source": [
        "# video game of adventure with best rating in 2020"
      ],
      "metadata": {
        "id": "qRRBIKde6m0d"
      },
      "execution_count": null,
      "outputs": []
    },
    {
      "cell_type": "code",
      "source": [
        "# total distinct movie titles"
      ],
      "metadata": {
        "id": "_GK9dz166m4p"
      },
      "execution_count": null,
      "outputs": []
    },
    {
      "cell_type": "code",
      "source": [
        "# media duration of adult movies"
      ],
      "metadata": {
        "id": "wKuXpvm_70R4"
      },
      "execution_count": null,
      "outputs": []
    },
    {
      "cell_type": "code",
      "source": [
        "# total of movies with primaty title different original title"
      ],
      "metadata": {
        "id": "uVUpoYEr70VS"
      },
      "execution_count": null,
      "outputs": []
    },
    {
      "cell_type": "code",
      "source": [
        "# movie with longest name"
      ],
      "metadata": {
        "id": "p_EaRdd870Y4"
      },
      "execution_count": null,
      "outputs": []
    },
    {
      "cell_type": "code",
      "source": [
        "# movie with highest number of votes"
      ],
      "metadata": {
        "id": "FL-Hnx4n70bi"
      },
      "execution_count": null,
      "outputs": []
    },
    {
      "cell_type": "code",
      "source": [
        "# lowest average grade of a movie"
      ],
      "metadata": {
        "id": "AlOEzaxz70et"
      },
      "execution_count": null,
      "outputs": []
    }
  ]
}