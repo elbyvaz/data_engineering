{
  "nbformat": 4,
  "nbformat_minor": 0,
  "metadata": {
    "colab": {
      "provenance": [],
      "authorship_tag": "ABX9TyNKTsjG26PpXAPUx+ACTXs6",
      "include_colab_link": true
    },
    "kernelspec": {
      "name": "python3",
      "display_name": "Python 3"
    },
    "language_info": {
      "name": "python"
    }
  },
  "cells": [
    {
      "cell_type": "markdown",
      "metadata": {
        "id": "view-in-github",
        "colab_type": "text"
      },
      "source": [
        "<a href=\"https://colab.research.google.com/github/elbyvaz/data_engineering/blob/main/spark/corrupted_data.ipynb\" target=\"_parent\"><img src=\"https://colab.research.google.com/assets/colab-badge.svg\" alt=\"Open In Colab\"/></a>"
      ]
    },
    {
      "cell_type": "code",
      "execution_count": null,
      "metadata": {
        "id": "AfchWLKkzcVk"
      },
      "outputs": [],
      "source": [
        "# Como lidar com dados corrompidos?\n",
        "# Quando o valor lido é diferente do esperado...\n",
        "# https://www.linkedin.com/posts/rahul-patidar-603334163_spark-bigdata-dataengineering-activity-7049812091712524288-7BiP/?utm_source=share&utm_medium=member_ios\n",
        "\n",
        "from pyspark.sql import SparkSession\n",
        "\n",
        "\n",
        "spark = SparkSession \\\n",
        "    .builder \\\n",
        "    .appName(\"Apache Spark - Lidando com dados corrompidos\") \\\n",
        "    .getOrCreate()\n",
        "\n",
        "spark.version"
      ]
    },
    {
      "cell_type": "code",
      "source": [
        "# SOLUCAO 1: PERMISSIVO\n",
        "# define the schema for the data\n",
        "schema = \"id INT, name STRING, age INT\"\n",
        "\n",
        "# read data from a JSON file and specify the name of the column for corrupt records\n",
        "df = spark.read.schema(schema).option(\"mode\", \"PERMISSIVE\").json(\"pessoas.json\")\n",
        "\n",
        "# show the DataFrame\n",
        "df.show()\n",
        "\n",
        "# O problema fica meio escondido!"
      ],
      "metadata": {
        "id": "D8woWhYFzkvM"
      },
      "execution_count": null,
      "outputs": []
    },
    {
      "cell_type": "code",
      "source": [
        "# SOLUCAO 2: GUARDAR REGISTRO CORROMPIDO\n",
        "from pyspark.sql import SparkSession\n",
        "\n",
        "# create a SparkSession\n",
        "spark = SparkSession.builder.appName(\"columnNameOfCorruptRecord_example\").getOrCreate()\n",
        "\n",
        "# define the schema for the data\n",
        "schema = \"id INT, name STRING, age INT, corrupt_record STRING\"\n",
        "\n",
        "# read data from a JSON file and specify the name of the column for corrupt records\n",
        "df = spark.read.schema(schema).option(\"columnNameOfCorruptRecord\", \"corrupt_record\").json(\"pessoas.json\")\n",
        "\n",
        "# show the DataFrame\n",
        "df.show(truncate=False)"
      ],
      "metadata": {
        "id": "6C6zsRL-zkx-"
      },
      "execution_count": null,
      "outputs": []
    },
    {
      "cell_type": "code",
      "source": [
        "# SOLUCAO 3: FAIL FAST\n",
        "# define the schema for the data\n",
        "schema = \"id INT, name STRING, age INT, corrupt_record STRING\"\n",
        "\n",
        "# read data from a JSON file and specify the name of the column for corrupt records\n",
        "df = spark.read.schema(schema).option(\"mode\", \"FAILFAST\").json(\"pessoas.json\")\n",
        "\n",
        "# show the DataFrame\n",
        "df.show(truncate=False)"
      ],
      "metadata": {
        "id": "dm_9wot-zk0k"
      },
      "execution_count": null,
      "outputs": []
    },
    {
      "cell_type": "code",
      "source": [
        "# SOLUCAO 4: JOGAR FORA O REGISTRO CORROMPIDO\n",
        "\n",
        "# define the schema for the data\n",
        "schema = \"id INT, name STRING, age INT\"\n",
        "\n",
        "# read data from a JSON file and specify the name of the column for corrupt records\n",
        "df = spark.read.schema(schema).option(\"mode\", \"DROPMALFORMED\").json(\"pessoas.json\")\n",
        "\n",
        "# show the DataFrame\n",
        "df.show(truncate=False)"
      ],
      "metadata": {
        "id": "CXGYFDUBztLx"
      },
      "execution_count": null,
      "outputs": []
    },
    {
      "cell_type": "code",
      "source": [
        "# SOLUCAO 5: GUARDAR REGISTRO CORROMPIDO EM DISCO\n",
        "# Apenas DataBricks:\n",
        "# https://stackoverflow.com/questions/75126205/spark-badrecordspath-is-not-writing-records-to-the-path-as-expected\n",
        "# define the schema for the data\n",
        "schema = \"id INT, name STRING, age INT\"\n",
        "\n",
        "# read data from a JSON file and specify the name of the column for corrupt records\n",
        "df = spark.read.schema(schema).option(\"badRecordsPath\", \"C:/Users/pedro.guerra/Downloads/AULAS/XPE/engenharia-dados/big-data-spark/aula2/registros_corrompidos.json\").json(\"pessoas.json\")\n",
        "\n",
        "# show the DataFrame\n",
        "df.show(truncate=False)"
      ],
      "metadata": {
        "id": "1jXpZF9BztO3"
      },
      "execution_count": null,
      "outputs": []
    }
  ]
}