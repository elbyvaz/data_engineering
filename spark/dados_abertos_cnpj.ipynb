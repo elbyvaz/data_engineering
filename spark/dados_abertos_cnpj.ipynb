{
  "nbformat": 4,
  "nbformat_minor": 0,
  "metadata": {
    "colab": {
      "provenance": [],
      "authorship_tag": "ABX9TyN+gEVFjmH2FtvtBWPCj5yg",
      "include_colab_link": true
    },
    "kernelspec": {
      "name": "python3",
      "display_name": "Python 3"
    },
    "language_info": {
      "name": "python"
    }
  },
  "cells": [
    {
      "cell_type": "markdown",
      "metadata": {
        "id": "view-in-github",
        "colab_type": "text"
      },
      "source": [
        "<a href=\"https://colab.research.google.com/github/elbyvaz/data_engineering/blob/main/spark/dados_abertos_cnpj.ipynb\" target=\"_parent\"><img src=\"https://colab.research.google.com/assets/colab-badge.svg\" alt=\"Open In Colab\"/></a>"
      ]
    },
    {
      "cell_type": "code",
      "execution_count": 1,
      "metadata": {
        "colab": {
          "base_uri": "https://localhost:8080/"
        },
        "id": "LF6wUkPjwOAp",
        "outputId": "fd70589a-e91b-4bc8-8ec9-a94719b1ea21"
      },
      "outputs": [
        {
          "output_type": "stream",
          "name": "stdout",
          "text": [
            "Collecting pyspark\n",
            "  Downloading pyspark-3.5.0.tar.gz (316.9 MB)\n",
            "\u001b[2K     \u001b[90m━━━━━━━━━━━━━━━━━━━━━━━━━━━━━━━━━━━━━━━━\u001b[0m \u001b[32m316.9/316.9 MB\u001b[0m \u001b[31m1.7 MB/s\u001b[0m eta \u001b[36m0:00:00\u001b[0m\n",
            "\u001b[?25h  Preparing metadata (setup.py) ... \u001b[?25l\u001b[?25hdone\n",
            "Requirement already satisfied: py4j==0.10.9.7 in /usr/local/lib/python3.10/dist-packages (from pyspark) (0.10.9.7)\n",
            "Building wheels for collected packages: pyspark\n",
            "  Building wheel for pyspark (setup.py) ... \u001b[?25l\u001b[?25hdone\n",
            "  Created wheel for pyspark: filename=pyspark-3.5.0-py2.py3-none-any.whl size=317425345 sha256=0245d1a172ebffa6f8caf1d98bf32bc57bc0a03dd1bc472c286e0109463a12d9\n",
            "  Stored in directory: /root/.cache/pip/wheels/41/4e/10/c2cf2467f71c678cfc8a6b9ac9241e5e44a01940da8fbb17fc\n",
            "Successfully built pyspark\n",
            "Installing collected packages: pyspark\n",
            "Successfully installed pyspark-3.5.0\n"
          ]
        }
      ],
      "source": [
        "# !pip install pyspark"
      ]
    },
    {
      "cell_type": "code",
      "source": [
        "# using spark and veritying its version\n",
        "from pyspark.sql import SparkSession\n",
        "\n",
        "spark = SparkSession \\\n",
        "                    .builder \\\n",
        "                    .appName(\"Challenge: open data\") \\\n",
        "                    .getOrCreate()\n",
        "\n",
        "spark.version"
      ],
      "metadata": {
        "colab": {
          "base_uri": "https://localhost:8080/",
          "height": 36
        },
        "id": "CJJZZy7KxJ-6",
        "outputId": "b9871b17-d209-40c0-ef9b-d1b591cf9970"
      },
      "execution_count": 2,
      "outputs": [
        {
          "output_type": "execute_result",
          "data": {
            "text/plain": [
              "'3.5.0'"
            ],
            "application/vnd.google.colaboratory.intrinsic+json": {
              "type": "string"
            }
          },
          "metadata": {},
          "execution_count": 2
        }
      ]
    },
    {
      "cell_type": "code",
      "source": [
        "# dataframe 1 -> 1.048.576\n",
        "df_1 = spark.read.csv('/content/sample_data/estabelecimentos-1.csv', header=True, inferSchema=True)\n",
        "df_1.count()"
      ],
      "metadata": {
        "colab": {
          "base_uri": "https://localhost:8080/"
        },
        "id": "Zt9U_aCUCkTI",
        "outputId": "e1fc8053-07fe-44eb-9392-0acdc9a06393"
      },
      "execution_count": 69,
      "outputs": [
        {
          "output_type": "execute_result",
          "data": {
            "text/plain": [
              "44937"
            ]
          },
          "metadata": {},
          "execution_count": 69
        }
      ]
    },
    {
      "cell_type": "code",
      "source": [
        "df_1.printSchema()"
      ],
      "metadata": {
        "colab": {
          "base_uri": "https://localhost:8080/"
        },
        "id": "AbDCnuYREE66",
        "outputId": "96ef3f69-3ba3-4dd7-9cc0-5b417c9924c4"
      },
      "execution_count": 56,
      "outputs": [
        {
          "output_type": "stream",
          "name": "stdout",
          "text": [
            "root\n",
            " |-- CNPJ_BASICO;CNPJ_ORDEM;CNPJ_DV;IDENTIFICADOR_MATRIZ_FILIAL;NOME_FANTASIA;SITUACAO_CADASTRAL;DATA_SITUACAO_CADASTRAL;MOTIVO_SITUACAO_CADASTRAL;NOME_DA_CIDADE_NO_EXTERIOR;PAIS;DATA_INICIO_ATIVIDADE;CNAE_PRINCIPAL;CNAE_SECUNDARIA;TIPO_LOGRADOURO;LOGRADOURO;NUMERO;COMPLEMENTO;BAIRRO;CEP;UF;MUNICIPIO;DDD_1;TEL_1;DDD_2;TEL_2;DDD_FAX;FAX;CORREIO_ELETRONICO;SITUACAO_ESPECIAL;DATA_SITUACAO_ESPECIAL: string (nullable = true)\n",
            "\n"
          ]
        }
      ]
    },
    {
      "cell_type": "code",
      "source": [
        "# dataframe 3\n",
        "df_3 = spark.read.csv('/content/sample_data/estabelecimentos-3.csv', header=True, inferSchema=True)\n",
        "df_3.count()"
      ],
      "metadata": {
        "colab": {
          "base_uri": "https://localhost:8080/"
        },
        "id": "pD18CsZNDZwJ",
        "outputId": "78832f1c-9540-4e98-f41a-2e5e7d9254a5"
      },
      "execution_count": 50,
      "outputs": [
        {
          "output_type": "execute_result",
          "data": {
            "text/plain": [
              "41477"
            ]
          },
          "metadata": {},
          "execution_count": 50
        }
      ]
    },
    {
      "cell_type": "code",
      "source": [
        "df_3.printSchema()"
      ],
      "metadata": {
        "colab": {
          "base_uri": "https://localhost:8080/"
        },
        "id": "A3ZYSeOAxKEg",
        "outputId": "66ee7b91-e904-44fd-f3e8-5362d4780146"
      },
      "execution_count": 57,
      "outputs": [
        {
          "output_type": "stream",
          "name": "stdout",
          "text": [
            "root\n",
            " |-- CNPJ_BASICO;CNPJ_ORDEM;CNPJ_DV;IDENTIFICADOR_MATRIZ_FILIAL;NOME_FANTASIA;SITUACAO_CADASTRAL;DATA_SITUACAO_CADASTRAL;MOTIVO_SITUACAO_CADASTRAL;NOME_DA_CIDADE_NO_EXTERIOR;PAIS;DATA_INICIO_ATIVIDADE;CNAE_PRINCIPAL;CNAE_SECUNDARIA;TIPO_LOGRADOURO;LOGRADOURO;NUMERO;COMPLEMENTO;BAIRRO;CEP;UF;MUNICIPIO;DDD_1;TEL_1;DDD_2;TEL_2;DDD_FAX;FAX;CORREIO_ELETRONICO;SITUACAO_ESPECIAL;DATA_SITUACAO_ESPECIAL: string (nullable = true)\n",
            "\n"
          ]
        }
      ]
    },
    {
      "cell_type": "code",
      "source": [
        "# dataframes have identical columns. If no, use withColumn() to rename\n",
        "df_result = df_1.union(df_3)\n",
        "df_result.count()"
      ],
      "metadata": {
        "colab": {
          "base_uri": "https://localhost:8080/"
        },
        "id": "rAxLeG_uxKHs",
        "outputId": "f8bf3186-25e8-4a8f-9a0e-f127085cdcc8"
      },
      "execution_count": 62,
      "outputs": [
        {
          "output_type": "execute_result",
          "data": {
            "text/plain": [
              "86414"
            ]
          },
          "metadata": {},
          "execution_count": 62
        }
      ]
    },
    {
      "cell_type": "code",
      "source": [
        "# checking duplicated rows (df_result rows = distinct rows).\n",
        "# df_result.printSchema()\n",
        "df_result.select('CNPJ_BASICO;CNPJ_ORDEM;CNPJ_DV;IDENTIFICADOR_MATRIZ_FILIAL;NOME_FANTASIA;SITUACAO_CADASTRAL;DATA_SITUACAO_CADASTRAL;MOTIVO_SITUACAO_CADASTRAL;NOME_DA_CIDADE_NO_EXTERIOR;PAIS;DATA_INICIO_ATIVIDADE;CNAE_PRINCIPAL;CNAE_SECUNDARIA;TIPO_LOGRADOURO;LOGRADOURO;NUMERO;COMPLEMENTO;BAIRRO;CEP;UF;MUNICIPIO;DDD_1;TEL_1;DDD_2;TEL_2;DDD_FAX;FAX;CORREIO_ELETRONICO;SITUACAO_ESPECIAL;DATA_SITUACAO_ESPECIAL').distinct().count()"
      ],
      "metadata": {
        "colab": {
          "base_uri": "https://localhost:8080/"
        },
        "id": "yHuKEuamxKKM",
        "outputId": "f008b937-9886-480a-8201-dade53b90560"
      },
      "execution_count": 67,
      "outputs": [
        {
          "output_type": "execute_result",
          "data": {
            "text/plain": [
              "86414"
            ]
          },
          "metadata": {},
          "execution_count": 67
        }
      ]
    },
    {
      "cell_type": "code",
      "source": [
        "########## RDD #########################\n",
        "def count_lines(file_name):\n",
        "  \"\"\"\n",
        "  Count total lines of a file\n",
        "\n",
        "  Args:\n",
        "    file_name: the file\n",
        "\n",
        "  Return:\n",
        "    print total lines of afile\n",
        "  \"\"\"\n",
        "  file_content = spark.sparkContext.textFile(file_name)\n",
        "  print('Total lines of the file: {}'.format(file_content.count()))\n",
        "\n",
        "\n",
        "\n",
        "\n",
        "\n",
        "# setting file 1\n",
        "filename_1 = \"/content/sample_data/estabelecimentos-1.csv\"\n",
        "count_lines(filename_1)\n",
        "\n",
        "\n",
        "\n",
        "# setting file 2: very big to google colab (more than 2GB)\n",
        "# filename_2 = \"/content/sample_data/estabelecimentos-2.csv\"\n",
        "# count_lines(filename_2)\n",
        "\n",
        "\n",
        "\n",
        "# setting file 3\n",
        "filename_3 = \"/content/sample_data/estabelecimentos-3.csv\"\n",
        "count_lines(filename_3)\n",
        "\n",
        "\n",
        "\n",
        "# union: content of the files\n",
        "rdd1 = spark.sparkContext.parallelize(filename_1)\n",
        "rdd3 = spark.sparkContext.parallelize(filename_3)\n",
        "\n",
        "rddUnion = rdd1.union(rdd3)\n",
        "# rddUnion.collect()\n",
        "print('Total lines after union: {}'.format(rddUnion.count()))\n",
        "\n",
        "\n",
        "\n",
        "# rdd: clusters\n",
        "# extracting the first element of each row\n",
        "linesRdd = spark.sparkContext.textFile(filename)\n",
        "print('Number of partitions: {}'.format(linesRdd.getNumPartitions()))"
      ],
      "metadata": {
        "id": "UCumG20QQdOr"
      },
      "execution_count": null,
      "outputs": []
    }
  ]
}