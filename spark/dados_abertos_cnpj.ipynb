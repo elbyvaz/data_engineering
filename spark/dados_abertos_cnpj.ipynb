{
  "nbformat": 4,
  "nbformat_minor": 0,
  "metadata": {
    "colab": {
      "provenance": [],
      "authorship_tag": "ABX9TyNpCM0+y5qAID6E7Bnrzk3f",
      "include_colab_link": true
    },
    "kernelspec": {
      "name": "python3",
      "display_name": "Python 3"
    },
    "language_info": {
      "name": "python"
    }
  },
  "cells": [
    {
      "cell_type": "markdown",
      "metadata": {
        "id": "view-in-github",
        "colab_type": "text"
      },
      "source": [
        "<a href=\"https://colab.research.google.com/github/elbyvaz/data_engineering/blob/main/spark/dados_abertos_cnpj.ipynb\" target=\"_parent\"><img src=\"https://colab.research.google.com/assets/colab-badge.svg\" alt=\"Open In Colab\"/></a>"
      ]
    },
    {
      "cell_type": "code",
      "execution_count": 1,
      "metadata": {
        "colab": {
          "base_uri": "https://localhost:8080/"
        },
        "id": "LF6wUkPjwOAp",
        "outputId": "63d6bbb9-5a22-44e8-9ad9-6188bde966d7"
      },
      "outputs": [
        {
          "output_type": "stream",
          "name": "stdout",
          "text": [
            "Collecting pyspark\n",
            "  Downloading pyspark-3.5.0.tar.gz (316.9 MB)\n",
            "\u001b[2K     \u001b[90m━━━━━━━━━━━━━━━━━━━━━━━━━━━━━━━━━━━━━━━━\u001b[0m \u001b[32m316.9/316.9 MB\u001b[0m \u001b[31m2.8 MB/s\u001b[0m eta \u001b[36m0:00:00\u001b[0m\n",
            "\u001b[?25h  Preparing metadata (setup.py) ... \u001b[?25l\u001b[?25hdone\n",
            "Requirement already satisfied: py4j==0.10.9.7 in /usr/local/lib/python3.10/dist-packages (from pyspark) (0.10.9.7)\n",
            "Building wheels for collected packages: pyspark\n",
            "  Building wheel for pyspark (setup.py) ... \u001b[?25l\u001b[?25hdone\n",
            "  Created wheel for pyspark: filename=pyspark-3.5.0-py2.py3-none-any.whl size=317425345 sha256=d07f09a1bd0a5f761cb33fdf98dffa066b89522c09a96d16bc72d56d41177b93\n",
            "  Stored in directory: /root/.cache/pip/wheels/41/4e/10/c2cf2467f71c678cfc8a6b9ac9241e5e44a01940da8fbb17fc\n",
            "Successfully built pyspark\n",
            "Installing collected packages: pyspark\n",
            "Successfully installed pyspark-3.5.0\n"
          ]
        }
      ],
      "source": [
        "!pip install pyspark"
      ]
    },
    {
      "cell_type": "code",
      "source": [
        "# using spark and veritying its version\n",
        "from pyspark.sql import SparkSession\n",
        "\n",
        "spark = SparkSession \\\n",
        "                    .builder \\\n",
        "                    .appName(\"Challenge: open data\") \\\n",
        "                    .getOrCreate()\n",
        "\n",
        "spark.version"
      ],
      "metadata": {
        "colab": {
          "base_uri": "https://localhost:8080/",
          "height": 35
        },
        "id": "CJJZZy7KxJ-6",
        "outputId": "d5b7a40a-c5fb-49c0-ac41-12b5b3b48e77"
      },
      "execution_count": 2,
      "outputs": [
        {
          "output_type": "execute_result",
          "data": {
            "text/plain": [
              "'3.5.0'"
            ],
            "application/vnd.google.colaboratory.intrinsic+json": {
              "type": "string"
            }
          },
          "metadata": {},
          "execution_count": 2
        }
      ]
    },
    {
      "cell_type": "code",
      "source": [
        "# dataframe 1\n",
        "df_1 = spark.read.csv('/content/sample_data/estabelecimentos-1.csv', header=True, inferSchema=True, sep=';')\n",
        "df_1.count()"
      ],
      "metadata": {
        "colab": {
          "base_uri": "https://localhost:8080/"
        },
        "id": "Zt9U_aCUCkTI",
        "outputId": "611dc1e9-9e09-4ffd-c387-184bc67e00b3"
      },
      "execution_count": 3,
      "outputs": [
        {
          "output_type": "execute_result",
          "data": {
            "text/plain": [
              "115502"
            ]
          },
          "metadata": {},
          "execution_count": 3
        }
      ]
    },
    {
      "cell_type": "code",
      "source": [
        "df_1.printSchema()"
      ],
      "metadata": {
        "colab": {
          "base_uri": "https://localhost:8080/"
        },
        "id": "AbDCnuYREE66",
        "outputId": "58eb51cc-93ca-446b-db52-371626a9dc57"
      },
      "execution_count": 4,
      "outputs": [
        {
          "output_type": "stream",
          "name": "stdout",
          "text": [
            "root\n",
            " |-- CNPJ_BASICO: integer (nullable = true)\n",
            " |-- CNPJ_ORDEM: integer (nullable = true)\n",
            " |-- CNPJ_DV: integer (nullable = true)\n",
            " |-- IDENTIFICADOR_MATRIZ_FILIAL: integer (nullable = true)\n",
            " |-- NOME_FANTASIA: string (nullable = true)\n",
            " |-- SITUACAO_CADASTRAL: integer (nullable = true)\n",
            " |-- DATA_SITUACAO_CADASTRAL: integer (nullable = true)\n",
            " |-- MOTIVO_SITUACAO_CADASTRAL: integer (nullable = true)\n",
            " |-- NOME_DA_CIDADE_NO_EXTERIOR: string (nullable = true)\n",
            " |-- PAIS: integer (nullable = true)\n",
            " |-- DATA_INICIO_ATIVIDADE: integer (nullable = true)\n",
            " |-- CNAE_PRINCIPAL: integer (nullable = true)\n",
            " |-- CNAE_SECUNDARIA: string (nullable = true)\n",
            " |-- TIPO_LOGRADOURO: string (nullable = true)\n",
            " |-- LOGRADOURO: string (nullable = true)\n",
            " |-- NUMERO: string (nullable = true)\n",
            " |-- COMPLEMENTO: string (nullable = true)\n",
            " |-- BAIRRO: string (nullable = true)\n",
            " |-- CEP: integer (nullable = true)\n",
            " |-- UF: string (nullable = true)\n",
            " |-- MUNICIPIO: integer (nullable = true)\n",
            " |-- DDD_1: integer (nullable = true)\n",
            " |-- TEL_1: string (nullable = true)\n",
            " |-- DDD_2: integer (nullable = true)\n",
            " |-- TEL_2: string (nullable = true)\n",
            " |-- DDD_FAX: double (nullable = true)\n",
            " |-- FAX: string (nullable = true)\n",
            " |-- CORREIO_ELETRONICO: string (nullable = true)\n",
            " |-- SITUACAO_ESPECIAL: string (nullable = true)\n",
            " |-- DATA_SITUACAO_ESPECIAL: integer (nullable = true)\n",
            "\n"
          ]
        }
      ]
    },
    {
      "cell_type": "code",
      "source": [
        "# dataframe 3\n",
        "df_3 = spark.read.csv('/content/sample_data/estabelecimentos-3.csv', header=True, inferSchema=True, sep=';')\n",
        "df_3.count()"
      ],
      "metadata": {
        "colab": {
          "base_uri": "https://localhost:8080/"
        },
        "id": "pD18CsZNDZwJ",
        "outputId": "582a72c8-78c8-44b0-cfdf-4810f72322c1"
      },
      "execution_count": 5,
      "outputs": [
        {
          "output_type": "execute_result",
          "data": {
            "text/plain": [
              "122015"
            ]
          },
          "metadata": {},
          "execution_count": 5
        }
      ]
    },
    {
      "cell_type": "code",
      "source": [
        "df_3.printSchema()"
      ],
      "metadata": {
        "colab": {
          "base_uri": "https://localhost:8080/"
        },
        "id": "A3ZYSeOAxKEg",
        "outputId": "fbfb59e5-14e1-4c53-df86-6fc6c38905c8"
      },
      "execution_count": 6,
      "outputs": [
        {
          "output_type": "stream",
          "name": "stdout",
          "text": [
            "root\n",
            " |-- CNPJ_BASICO: integer (nullable = true)\n",
            " |-- CNPJ_ORDEM: integer (nullable = true)\n",
            " |-- CNPJ_DV: integer (nullable = true)\n",
            " |-- IDENTIFICADOR_MATRIZ_FILIAL: integer (nullable = true)\n",
            " |-- NOME_FANTASIA: string (nullable = true)\n",
            " |-- SITUACAO_CADASTRAL: integer (nullable = true)\n",
            " |-- DATA_SITUACAO_CADASTRAL: integer (nullable = true)\n",
            " |-- MOTIVO_SITUACAO_CADASTRAL: integer (nullable = true)\n",
            " |-- NOME_DA_CIDADE_NO_EXTERIOR: string (nullable = true)\n",
            " |-- PAIS: integer (nullable = true)\n",
            " |-- DATA_INICIO_ATIVIDADE: integer (nullable = true)\n",
            " |-- CNAE_PRINCIPAL: integer (nullable = true)\n",
            " |-- CNAE_SECUNDARIA: string (nullable = true)\n",
            " |-- TIPO_LOGRADOURO: string (nullable = true)\n",
            " |-- LOGRADOURO: string (nullable = true)\n",
            " |-- NUMERO: string (nullable = true)\n",
            " |-- COMPLEMENTO: string (nullable = true)\n",
            " |-- BAIRRO: string (nullable = true)\n",
            " |-- CEP: integer (nullable = true)\n",
            " |-- UF: string (nullable = true)\n",
            " |-- MUNICIPIO: integer (nullable = true)\n",
            " |-- DDD_1: integer (nullable = true)\n",
            " |-- TEL_1: string (nullable = true)\n",
            " |-- DDD_2: integer (nullable = true)\n",
            " |-- TEL_2: integer (nullable = true)\n",
            " |-- DDD_FAX: double (nullable = true)\n",
            " |-- FAX: string (nullable = true)\n",
            " |-- CORREIO_ELETRONICO: string (nullable = true)\n",
            " |-- SITUACAO_ESPECIAL: string (nullable = true)\n",
            " |-- DATA_SITUACAO_ESPECIAL: string (nullable = true)\n",
            "\n"
          ]
        }
      ]
    },
    {
      "cell_type": "code",
      "source": [
        "# dataframes have identical columns. If no, use withColumn() to rename\n",
        "df_result = df_1.union(df_3)\n",
        "df_result.count()"
      ],
      "metadata": {
        "colab": {
          "base_uri": "https://localhost:8080/"
        },
        "id": "rAxLeG_uxKHs",
        "outputId": "50b771ea-5a13-4a1d-cd46-87ab1bfb46e0"
      },
      "execution_count": 7,
      "outputs": [
        {
          "output_type": "execute_result",
          "data": {
            "text/plain": [
              "237517"
            ]
          },
          "metadata": {},
          "execution_count": 7
        }
      ]
    },
    {
      "cell_type": "code",
      "source": [
        "# checking duplicated rows (df_result rows = distinct rows).\n",
        "# df_result.printSchema()\n",
        "print('TOTAL OF ESTABLISHMENTS: {}'.format(df_result.select('CNPJ_BASICO').distinct().count()))"
      ],
      "metadata": {
        "colab": {
          "base_uri": "https://localhost:8080/"
        },
        "id": "yHuKEuamxKKM",
        "outputId": "fd2e97f1-dd04-4ecd-b2c5-49a74c7581e7"
      },
      "execution_count": 12,
      "outputs": [
        {
          "output_type": "stream",
          "name": "stdout",
          "text": [
            "TOTAL OF ESTABLISHMENTS: 237098\n"
          ]
        }
      ]
    },
    {
      "cell_type": "code",
      "source": [
        "# exists duplicated cnpj_basico\n",
        "# checking\n",
        "# from pyspark.sql.functions import col\n",
        "# df_result.groupBy('CNPJ_BASICO').count().sort(col('count').desc()).show()"
      ],
      "metadata": {
        "id": "HAa6Q6BsqirY"
      },
      "execution_count": null,
      "outputs": []
    },
    {
      "cell_type": "code",
      "source": [
        "# total of columns\n",
        "print('TOTAL OF COLUMNS: {}'.format(len(df_result.columns)))\n",
        "# total of numeric columns (list comprehension)\n",
        "num_numeric_columns = len([col for col, dtype in df_result.dtypes if dtype in ('integer') or dtype in ('double')])\n",
        "print(\"Number of numeric columns:\", num_numeric_columns)"
      ],
      "metadata": {
        "colab": {
          "base_uri": "https://localhost:8080/"
        },
        "id": "nGeI6QK-qixI",
        "outputId": "c92ee2be-3ad0-421a-84e6-fd41d0819844"
      },
      "execution_count": 19,
      "outputs": [
        {
          "output_type": "stream",
          "name": "stdout",
          "text": [
            "TOTAL OF COLUMNS: 30\n",
            "Number of numeric columns: 15\n"
          ]
        }
      ]
    },
    {
      "cell_type": "code",
      "source": [
        "import os\n",
        "csv_1 = os.path.getsize('/content/sample_data/estabelecimentos-1.csv')\n",
        "csv_3 = os.path.getsize('/content/sample_data/estabelecimentos-3.csv')\n",
        "total_csv_size = csv_1 + csv_3\n",
        "print('Total csv size: {}'.format(total_csv_size))"
      ],
      "metadata": {
        "colab": {
          "base_uri": "https://localhost:8080/"
        },
        "id": "wYX0uhzWqi3P",
        "outputId": "425fa736-39b1-46b2-8190-4b4d3eb2d2ab"
      },
      "execution_count": 27,
      "outputs": [
        {
          "output_type": "stream",
          "name": "stdout",
          "text": [
            "Total csv size: 633339904\n"
          ]
        }
      ]
    },
    {
      "cell_type": "code",
      "source": [
        "# writing parquet file\n",
        "df_result.write.mode(\"overwrite\").parquet(\"/content/sample_data/estabelecimentos.parquet\")"
      ],
      "metadata": {
        "id": "xKH7C1j-qi6P"
      },
      "execution_count": 28,
      "outputs": []
    },
    {
      "cell_type": "code",
      "source": [
        "total_parquet_size = os.path.getsize('/content/sample_data/estabelecimentos.parquet')\n",
        "print('Total parquet size: {}'.format(total_parquet_size))"
      ],
      "metadata": {
        "colab": {
          "base_uri": "https://localhost:8080/"
        },
        "id": "-v5hBYqcqi9t",
        "outputId": "92e0a10b-a1a2-4d06-ba92-10e77bf81b5a"
      },
      "execution_count": 29,
      "outputs": [
        {
          "output_type": "stream",
          "name": "stdout",
          "text": [
            "Total parquet size: 4096\n"
          ]
        }
      ]
    },
    {
      "cell_type": "code",
      "source": [
        "# checking total establishments with LOGRADOURO null\n",
        "df_result.createOrReplaceTempView(\"estabelecimentos\")\n",
        "spark.sql(\"SELECT COUNT(*) FROM estabelecimentos WHERE LOGRADOURO IS NULL\").show()"
      ],
      "metadata": {
        "colab": {
          "base_uri": "https://localhost:8080/"
        },
        "id": "mszj62ZoxU2P",
        "outputId": "dd915eae-bd5d-4525-994c-e86c2c33eb55"
      },
      "execution_count": 37,
      "outputs": [
        {
          "output_type": "stream",
          "name": "stdout",
          "text": [
            "+--------+\n",
            "|count(1)|\n",
            "+--------+\n",
            "|      16|\n",
            "+--------+\n",
            "\n"
          ]
        }
      ]
    },
    {
      "cell_type": "code",
      "source": [
        "def is_avenida(logradouro):\n",
        "  \"\"\"\n",
        "  verify if logradouro contains AVENIDA in its name\n",
        "\n",
        "  Args:\n",
        "    logradouro: name of avenue, street...\n",
        "\n",
        "  Returns:\n",
        "    True if contains AVENIDA or False if not\n",
        "  \"\"\"\n",
        "  result = logradouro.startswith(\"AVENIDA\")\n",
        "  return result\n",
        "\n",
        "#spark.sql(\"SELECT COUNT(*) FROM estabelecimentos WHERE is_avenida(logradouro) == True\").show()\n",
        "spark.sql(\"SELECT COUNT(*) FROM estabelecimentos WHERE logradouro LIKE 'AVENIDA%' \").show()"
      ],
      "metadata": {
        "colab": {
          "base_uri": "https://localhost:8080/"
        },
        "id": "RbP5lolRxU5Q",
        "outputId": "c0d3d957-a746-43dd-83c9-c90b741e7d09"
      },
      "execution_count": 41,
      "outputs": [
        {
          "output_type": "stream",
          "name": "stdout",
          "text": [
            "+--------+\n",
            "|count(1)|\n",
            "+--------+\n",
            "|     421|\n",
            "+--------+\n",
            "\n"
          ]
        }
      ]
    },
    {
      "cell_type": "code",
      "source": [
        "# distincts ceps\n",
        "# spark.sql(\"SELECT COUNT(DISTINCT CEP) FROM estabelecimentos\").show()\n",
        "# or\n",
        "df_result.select('CEP').distinct().count()"
      ],
      "metadata": {
        "colab": {
          "base_uri": "https://localhost:8080/"
        },
        "id": "csgVDbPyxU8l",
        "outputId": "5bdd3f28-44c6-48eb-e5ab-78038ced9c62"
      },
      "execution_count": 44,
      "outputs": [
        {
          "output_type": "execute_result",
          "data": {
            "text/plain": [
              "113824"
            ]
          },
          "metadata": {},
          "execution_count": 44
        }
      ]
    },
    {
      "cell_type": "code",
      "source": [
        "# cnae dataframe\n",
        "df_cnae = spark.read.csv('/content/sample_data/cnaes.csv', header=True, inferSchema=True, sep=';')\n",
        "df_cnae.count()"
      ],
      "metadata": {
        "colab": {
          "base_uri": "https://localhost:8080/"
        },
        "id": "QRfoiwDK2CTn",
        "outputId": "56886772-11cd-4af1-e065-9fd12f296e8d"
      },
      "execution_count": 46,
      "outputs": [
        {
          "output_type": "execute_result",
          "data": {
            "text/plain": [
              "1359"
            ]
          },
          "metadata": {},
          "execution_count": 46
        }
      ]
    },
    {
      "cell_type": "code",
      "source": [
        "df_cnae.printSchema()"
      ],
      "metadata": {
        "colab": {
          "base_uri": "https://localhost:8080/"
        },
        "id": "KiKg1uXX2yJb",
        "outputId": "21eef86f-1315-4303-db85-1051905ad2b2"
      },
      "execution_count": 47,
      "outputs": [
        {
          "output_type": "stream",
          "name": "stdout",
          "text": [
            "root\n",
            " |-- CNAE: integer (nullable = true)\n",
            " |-- DESCRICAO_CNAE: string (nullable = true)\n",
            "\n"
          ]
        }
      ]
    },
    {
      "cell_type": "code",
      "source": [
        "# total of CULTIVO\n",
        "df_cnae.createOrReplaceTempView(\"cnaes\")\n",
        "spark.sql(\"SELECT COUNT(e.CNPJ_BASICO) \\\n",
        "            FROM estabelecimentos e \\\n",
        "            INNER JOIN cnaes c ON e.CNAE_PRINCIPAL = c.CNAE \\\n",
        "            WHERE UPPER(c.DESCRICAO_CNAE) LIKE 'CULTIVO%' \").show()"
      ],
      "metadata": {
        "colab": {
          "base_uri": "https://localhost:8080/"
        },
        "id": "BMkTd3_a2CYU",
        "outputId": "75117db8-75f0-4ce3-90d7-fb560e3eaf69"
      },
      "execution_count": 51,
      "outputs": [
        {
          "output_type": "stream",
          "name": "stdout",
          "text": [
            "+------------------+\n",
            "|count(CNPJ_BASICO)|\n",
            "+------------------+\n",
            "|               798|\n",
            "+------------------+\n",
            "\n"
          ]
        }
      ]
    },
    {
      "cell_type": "code",
      "source": [
        "# filial\n",
        "spark.sql(\"SELECT COUNT(*) FROM estabelecimentos WHERE IDENTIFICADOR_MATRIZ_FILIAL = 2 \").show()"
      ],
      "metadata": {
        "colab": {
          "base_uri": "https://localhost:8080/"
        },
        "id": "mtJyEwlf2Cbd",
        "outputId": "cb308eda-d7db-4319-923e-6f689b662994"
      },
      "execution_count": 52,
      "outputs": [
        {
          "output_type": "stream",
          "name": "stdout",
          "text": [
            "+--------+\n",
            "|count(1)|\n",
            "+--------+\n",
            "|    4574|\n",
            "+--------+\n",
            "\n"
          ]
        }
      ]
    }
  ]
}