{
  "nbformat": 4,
  "nbformat_minor": 0,
  "metadata": {
    "colab": {
      "provenance": [],
      "authorship_tag": "ABX9TyMdrrYCzCtwgPJC0RU/kDqq",
      "include_colab_link": true
    },
    "kernelspec": {
      "name": "python3",
      "display_name": "Python 3"
    },
    "language_info": {
      "name": "python"
    }
  },
  "cells": [
    {
      "cell_type": "markdown",
      "metadata": {
        "id": "view-in-github",
        "colab_type": "text"
      },
      "source": [
        "<a href=\"https://colab.research.google.com/github/elbyvaz/data_engineering/blob/main/spark/new_column_id.ipynb\" target=\"_parent\"><img src=\"https://colab.research.google.com/assets/colab-badge.svg\" alt=\"Open In Colab\"/></a>"
      ]
    },
    {
      "cell_type": "code",
      "execution_count": null,
      "metadata": {
        "id": "GdU7vkM-z6Id"
      },
      "outputs": [],
      "source": [
        "# https://www.youtube.com/watch?v=WsU7jX3KUVM\n",
        "\n",
        "from pyspark.sql import SparkSession\n",
        "\n",
        "\n",
        "spark = SparkSession \\\n",
        "    .builder \\\n",
        "    .appName(\"Apache Spark - Criando um ID sequencial\") \\\n",
        "    .getOrCreate()\n",
        "\n",
        "spark.version"
      ]
    },
    {
      "cell_type": "code",
      "source": [
        "from pyspark.sql.functions import monotonically_increasing_id\n",
        "\n",
        "df = spark.read.csv(\"arquivos/emp.csv\",header=True,inferSchema=True)\n",
        "\n",
        "# Creating new column as partition_id using monotonically_increasing_id() function\n",
        "df = df.withColumn(\"ID_KEY\",monotonically_increasing_id())\n",
        "\n",
        "df.show()\n",
        ""
      ],
      "metadata": {
        "id": "H66N31uLz6gI"
      },
      "execution_count": null,
      "outputs": []
    },
    {
      "cell_type": "code",
      "source": [
        "# HASH MD5\n",
        "\n",
        "from pyspark.sql.functions import md5,col\n",
        "\n",
        "# Creating new column as partition_id using md5() function\n",
        "df  = df.withColumn(\"MD5_KEY\",md5(col(\"EMPNO\").cast(\"string\")))\n",
        "\n",
        "df.show()"
      ],
      "metadata": {
        "id": "FPcN1XeZz6jG"
      },
      "execution_count": null,
      "outputs": []
    }
  ]
}