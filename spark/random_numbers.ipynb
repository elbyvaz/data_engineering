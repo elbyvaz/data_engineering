{
  "nbformat": 4,
  "nbformat_minor": 0,
  "metadata": {
    "colab": {
      "provenance": [],
      "authorship_tag": "ABX9TyNmbbDjfDwIbtw3cvbbTQsN",
      "include_colab_link": true
    },
    "kernelspec": {
      "name": "python3",
      "display_name": "Python 3"
    },
    "language_info": {
      "name": "python"
    }
  },
  "cells": [
    {
      "cell_type": "markdown",
      "metadata": {
        "id": "view-in-github",
        "colab_type": "text"
      },
      "source": [
        "<a href=\"https://colab.research.google.com/github/elbyvaz/data_engineering/blob/main/spark/random_numbers.ipynb\" target=\"_parent\"><img src=\"https://colab.research.google.com/assets/colab-badge.svg\" alt=\"Open In Colab\"/></a>"
      ]
    },
    {
      "cell_type": "code",
      "source": [
        "# veritying python version\n",
        "# !python --version"
      ],
      "metadata": {
        "colab": {
          "base_uri": "https://localhost:8080/"
        },
        "id": "GOwYUZQGoGBT",
        "outputId": "e2b6cfb4-4088-4fdd-a10e-5ac864a2384f"
      },
      "execution_count": null,
      "outputs": [
        {
          "output_type": "stream",
          "name": "stdout",
          "text": [
            "Python 3.10.12\n"
          ]
        }
      ]
    },
    {
      "cell_type": "code",
      "source": [
        "# !pip install pyspark"
      ],
      "metadata": {
        "colab": {
          "base_uri": "https://localhost:8080/"
        },
        "id": "yErkodusTEWy",
        "outputId": "7a67d9d2-5a3c-4b7f-f17b-5340af0f1627"
      },
      "execution_count": null,
      "outputs": [
        {
          "output_type": "stream",
          "name": "stdout",
          "text": [
            "Collecting pyspark\n",
            "  Downloading pyspark-3.5.0.tar.gz (316.9 MB)\n",
            "\u001b[2K     \u001b[90m━━━━━━━━━━━━━━━━━━━━━━━━━━━━━━━━━━━━━━━━\u001b[0m \u001b[32m316.9/316.9 MB\u001b[0m \u001b[31m2.4 MB/s\u001b[0m eta \u001b[36m0:00:00\u001b[0m\n",
            "\u001b[?25h  Preparing metadata (setup.py) ... \u001b[?25l\u001b[?25hdone\n",
            "Requirement already satisfied: py4j==0.10.9.7 in /usr/local/lib/python3.10/dist-packages (from pyspark) (0.10.9.7)\n",
            "Building wheels for collected packages: pyspark\n",
            "  Building wheel for pyspark (setup.py) ... \u001b[?25l\u001b[?25hdone\n",
            "  Created wheel for pyspark: filename=pyspark-3.5.0-py2.py3-none-any.whl size=317425345 sha256=4d250811b4744f22fab7d531317f3807386b047912aecef86b86de21aaea753b\n",
            "  Stored in directory: /root/.cache/pip/wheels/41/4e/10/c2cf2467f71c678cfc8a6b9ac9241e5e44a01940da8fbb17fc\n",
            "Successfully built pyspark\n",
            "Installing collected packages: pyspark\n",
            "Successfully installed pyspark-3.5.0\n"
          ]
        }
      ]
    },
    {
      "cell_type": "code",
      "source": [
        "# using spark and veritying its version\n",
        "from pyspark.sql import SparkSession\n",
        "\n",
        "spark = SparkSession \\\n",
        "                    .builder \\\n",
        "                    .appName('Eng. dados - Tecnologia de Big Data - aula 2.2') \\\n",
        "                    .getOrCreate()\n",
        "\n",
        "spark.version"
      ],
      "metadata": {
        "colab": {
          "base_uri": "https://localhost:8080/",
          "height": 36
        },
        "id": "LqQ0fJIqoL_k",
        "outputId": "4fa69838-318f-4afb-aeda-e13b82bc545e"
      },
      "execution_count": null,
      "outputs": [
        {
          "output_type": "execute_result",
          "data": {
            "text/plain": [
              "'3.5.0'"
            ],
            "application/vnd.google.colaboratory.intrinsic+json": {
              "type": "string"
            }
          },
          "metadata": {},
          "execution_count": 3
        }
      ]
    },
    {
      "cell_type": "code",
      "source": [
        "filename = \"/content/sample_data/numbers.txt\" # precisa referenciar a estrutura de diretorios do google colab, q eh linux\n",
        "text_df = spark.read.text(filename)\n",
        "# Apply a transformation to extract the first element of each row\n",
        "linesRdd = text_df.rdd.map(lambda r: r[0]) # rdd: estrutura de dado do python q abstrai o cluster, como se estivesse na maq local\n",
        "print('Number of partitions: {}'.format(linesRdd.getNumPartitions()))\n",
        "\n",
        "# Collect the results (for demonstration purposes)\n",
        "# result = linesRdd.collect()\n",
        "\n",
        "# Display the results\n",
        "# print(result)"
      ],
      "metadata": {
        "colab": {
          "base_uri": "https://localhost:8080/"
        },
        "id": "O3zYnqMLa0OC",
        "outputId": "acecc849-bea4-4010-ce94-30da899f68e2"
      },
      "execution_count": null,
      "outputs": [
        {
          "output_type": "stream",
          "name": "stdout",
          "text": [
            "Number of partitions: 2\n"
          ]
        }
      ]
    },
    {
      "cell_type": "code",
      "source": [
        "\"\"\"\n",
        "The objective of code below is to count how many times each number was showed in the file\n",
        "Sample file:\n",
        "  1 9 8 10 1 9 2\n",
        "Result:\n",
        "  1 -> 2  # 2 times\n",
        "  9 -> 2\n",
        "  8 -> 1\n",
        "  10 -> 1\n",
        "  2 -> 1\n",
        "\"\"\"\n",
        "from operator import add\n",
        "\n",
        "\"\"\"\n",
        "linesRdd.sample(False, 0.01): only 1% of the lines for test\n",
        "flatMap: ?\n",
        "filter: only pair numbers\n",
        "map & reduce: responsible for counting; add 1 to every equal number\n",
        "\"\"\"\n",
        "countsRdd = linesRdd.sample(False, 0.01) \\\n",
        "                    .flatMap(lambda line: line.split(' ')) \\\n",
        "                    .filter(lambda number: int(number)%2==0) \\\n",
        "                    .map(lambda number: (number, 1)) \\\n",
        "                    .reduceByKey(add)\n",
        "\n",
        "print('The end')"
      ],
      "metadata": {
        "id": "jsS6s4qba0Rf",
        "colab": {
          "base_uri": "https://localhost:8080/"
        },
        "outputId": "5fa8645e-f450-4af4-c74b-276c9ceacb8b"
      },
      "execution_count": null,
      "outputs": [
        {
          "output_type": "stream",
          "name": "stdout",
          "text": [
            "The end\n"
          ]
        }
      ]
    },
    {
      "cell_type": "code",
      "source": [
        "output = countsRdd.collect()\n",
        "for(number, count) in output:\n",
        "  print(number, count)"
      ],
      "metadata": {
        "id": "AqUyMYC1a0Uv",
        "colab": {
          "base_uri": "https://localhost:8080/"
        },
        "outputId": "c74b0707-d379-45e8-861f-a581a91197fe"
      },
      "execution_count": null,
      "outputs": [
        {
          "output_type": "stream",
          "name": "stdout",
          "text": [
            "10 5982\n",
            "8 5919\n",
            "4 5905\n",
            "0 6012\n",
            "2 5903\n",
            "6 5996\n"
          ]
        }
      ]
    },
    {
      "cell_type": "code",
      "source": [
        "linesRdd.count() # total lines of file (not from the sample/amostra)"
      ],
      "metadata": {
        "colab": {
          "base_uri": "https://localhost:8080/"
        },
        "id": "UA99194fbg6I",
        "outputId": "eb344875-917d-479e-8fc8-0766619e181e"
      },
      "execution_count": null,
      "outputs": [
        {
          "output_type": "execute_result",
          "data": {
            "text/plain": [
              "593805"
            ]
          },
          "metadata": {},
          "execution_count": 27
        }
      ]
    }
  ]
}