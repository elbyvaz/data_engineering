{
  "nbformat": 4,
  "nbformat_minor": 0,
  "metadata": {
    "colab": {
      "provenance": [],
      "authorship_tag": "ABX9TyOU7goSxMRsJbHaEXdwsplP",
      "include_colab_link": true
    },
    "kernelspec": {
      "name": "python3",
      "display_name": "Python 3"
    },
    "language_info": {
      "name": "python"
    }
  },
  "cells": [
    {
      "cell_type": "markdown",
      "metadata": {
        "id": "view-in-github",
        "colab_type": "text"
      },
      "source": [
        "<a href=\"https://colab.research.google.com/github/elbyvaz/data_engineering/blob/main/spark/san_francisco_fire_calls.ipynb\" target=\"_parent\"><img src=\"https://colab.research.google.com/assets/colab-badge.svg\" alt=\"Open In Colab\"/></a>"
      ]
    },
    {
      "cell_type": "code",
      "execution_count": 1,
      "metadata": {
        "colab": {
          "base_uri": "https://localhost:8080/"
        },
        "id": "iGaOpCya5ngx",
        "outputId": "ab5e3b72-9185-40ec-de3d-603a4181fc99"
      },
      "outputs": [
        {
          "output_type": "stream",
          "name": "stdout",
          "text": [
            "Collecting pyspark\n",
            "  Downloading pyspark-3.5.0.tar.gz (316.9 MB)\n",
            "\u001b[2K     \u001b[90m━━━━━━━━━━━━━━━━━━━━━━━━━━━━━━━━━━━━━━━━\u001b[0m \u001b[32m316.9/316.9 MB\u001b[0m \u001b[31m4.7 MB/s\u001b[0m eta \u001b[36m0:00:00\u001b[0m\n",
            "\u001b[?25h  Preparing metadata (setup.py) ... \u001b[?25l\u001b[?25hdone\n",
            "Requirement already satisfied: py4j==0.10.9.7 in /usr/local/lib/python3.10/dist-packages (from pyspark) (0.10.9.7)\n",
            "Building wheels for collected packages: pyspark\n",
            "  Building wheel for pyspark (setup.py) ... \u001b[?25l\u001b[?25hdone\n",
            "  Created wheel for pyspark: filename=pyspark-3.5.0-py2.py3-none-any.whl size=317425345 sha256=78585121178e97f8baaa8d381bd89171aaaae29bd50c7432e3c6eb9a9fa40854\n",
            "  Stored in directory: /root/.cache/pip/wheels/41/4e/10/c2cf2467f71c678cfc8a6b9ac9241e5e44a01940da8fbb17fc\n",
            "Successfully built pyspark\n",
            "Installing collected packages: pyspark\n",
            "Successfully installed pyspark-3.5.0\n"
          ]
        }
      ],
      "source": [
        "!pip install pyspark"
      ]
    },
    {
      "cell_type": "code",
      "source": [
        "# using spark and veritying its version\n",
        "from pyspark.sql import SparkSession\n",
        "\n",
        "spark = SparkSession \\\n",
        "                    .builder \\\n",
        "                    .appName('Eng. dados - Tecnologia de Big Data - aula 2.2') \\\n",
        "                    .getOrCreate()\n",
        "\n",
        "spark.version"
      ],
      "metadata": {
        "colab": {
          "base_uri": "https://localhost:8080/",
          "height": 36
        },
        "id": "aGKFwBuV6QeU",
        "outputId": "07b7aba0-f0a9-4d11-cf08-ae49613b2771"
      },
      "execution_count": 2,
      "outputs": [
        {
          "output_type": "execute_result",
          "data": {
            "text/plain": [
              "'3.5.0'"
            ],
            "application/vnd.google.colaboratory.intrinsic+json": {
              "type": "string"
            }
          },
          "metadata": {},
          "execution_count": 2
        }
      ]
    },
    {
      "cell_type": "code",
      "source": [
        "# dataframe\n",
        "fire_df = spark.read.csv('/content/sample_data/sf-fire-calls.csv', header=True, inferSchema=True)\n",
        "fire_df.printSchema()"
      ],
      "metadata": {
        "colab": {
          "base_uri": "https://localhost:8080/"
        },
        "id": "JHZzmd616QhM",
        "outputId": "35a57ab1-3e82-47f4-e1b9-e189c1357479"
      },
      "execution_count": 4,
      "outputs": [
        {
          "output_type": "stream",
          "name": "stdout",
          "text": [
            "root\n",
            " |-- CallNumber: integer (nullable = true)\n",
            " |-- UnitID: string (nullable = true)\n",
            " |-- IncidentNumber: integer (nullable = true)\n",
            " |-- CallType: string (nullable = true)\n",
            " |-- CallDate: string (nullable = true)\n",
            " |-- WatchDate: string (nullable = true)\n",
            " |-- CallFinalDisposition: string (nullable = true)\n",
            " |-- AvailableDtTm: string (nullable = true)\n",
            " |-- Address: string (nullable = true)\n",
            " |-- City: string (nullable = true)\n",
            " |-- Zipcode: integer (nullable = true)\n",
            " |-- Battalion: string (nullable = true)\n",
            " |-- StationArea: string (nullable = true)\n",
            " |-- Box: string (nullable = true)\n",
            " |-- OriginalPriority: string (nullable = true)\n",
            " |-- Priority: string (nullable = true)\n",
            " |-- FinalPriority: integer (nullable = true)\n",
            " |-- ALSUnit: boolean (nullable = true)\n",
            " |-- CallTypeGroup: string (nullable = true)\n",
            " |-- NumAlarms: integer (nullable = true)\n",
            " |-- UnitType: string (nullable = true)\n",
            " |-- UnitSequenceInCallDispatch: integer (nullable = true)\n",
            " |-- FirePreventionDistrict: string (nullable = true)\n",
            " |-- SupervisorDistrict: string (nullable = true)\n",
            " |-- Neighborhood: string (nullable = true)\n",
            " |-- Location: string (nullable = true)\n",
            " |-- RowID: string (nullable = true)\n",
            " |-- Delay: double (nullable = true)\n",
            "\n"
          ]
        }
      ]
    },
    {
      "cell_type": "code",
      "source": [
        "fire_df.head(5)"
      ],
      "metadata": {
        "colab": {
          "base_uri": "https://localhost:8080/"
        },
        "id": "QDBkVLeM6QkI",
        "outputId": "cf231c8f-4963-4005-a52f-89b52a508c1a"
      },
      "execution_count": 5,
      "outputs": [
        {
          "output_type": "execute_result",
          "data": {
            "text/plain": [
              "[Row(CallNumber=20110016, UnitID='T13', IncidentNumber=2003235, CallType='Structure Fire', CallDate='01/11/2002', WatchDate='01/10/2002', CallFinalDisposition='Other', AvailableDtTm='01/11/2002 01:51:44 AM', Address='2000 Block of CALIFORNIA ST', City='SF', Zipcode=94109, Battalion='B04', StationArea='38', Box='3362', OriginalPriority='3', Priority='3', FinalPriority=3, ALSUnit=False, CallTypeGroup=None, NumAlarms=1, UnitType='TRUCK', UnitSequenceInCallDispatch=2, FirePreventionDistrict='4', SupervisorDistrict='5', Neighborhood='Pacific Heights', Location='(37.7895840679362, -122.428071912459)', RowID='020110016-T13', Delay=2.95),\n",
              " Row(CallNumber=20110022, UnitID='M17', IncidentNumber=2003241, CallType='Medical Incident', CallDate='01/11/2002', WatchDate='01/10/2002', CallFinalDisposition='Other', AvailableDtTm='01/11/2002 03:01:18 AM', Address='0 Block of SILVERVIEW DR', City='SF', Zipcode=94124, Battalion='B10', StationArea='42', Box='6495', OriginalPriority='3', Priority='3', FinalPriority=3, ALSUnit=True, CallTypeGroup=None, NumAlarms=1, UnitType='MEDIC', UnitSequenceInCallDispatch=1, FirePreventionDistrict='10', SupervisorDistrict='10', Neighborhood='Bayview Hunters Point', Location='(37.7337623673897, -122.396113802632)', RowID='020110022-M17', Delay=4.7),\n",
              " Row(CallNumber=20110023, UnitID='M41', IncidentNumber=2003242, CallType='Medical Incident', CallDate='01/11/2002', WatchDate='01/10/2002', CallFinalDisposition='Other', AvailableDtTm='01/11/2002 02:39:50 AM', Address='MARKET ST/MCALLISTER ST', City='SF', Zipcode=94102, Battalion='B03', StationArea='01', Box='1455', OriginalPriority='3', Priority='3', FinalPriority=3, ALSUnit=True, CallTypeGroup=None, NumAlarms=1, UnitType='MEDIC', UnitSequenceInCallDispatch=2, FirePreventionDistrict='3', SupervisorDistrict='6', Neighborhood='Tenderloin', Location='(37.7811772186856, -122.411699931232)', RowID='020110023-M41', Delay=2.4333334),\n",
              " Row(CallNumber=20110032, UnitID='E11', IncidentNumber=2003250, CallType='Vehicle Fire', CallDate='01/11/2002', WatchDate='01/10/2002', CallFinalDisposition='Other', AvailableDtTm='01/11/2002 04:16:46 AM', Address='APPLETON AV/MISSION ST', City='SF', Zipcode=94110, Battalion='B06', StationArea='32', Box='5626', OriginalPriority='3', Priority='3', FinalPriority=3, ALSUnit=False, CallTypeGroup=None, NumAlarms=1, UnitType='ENGINE', UnitSequenceInCallDispatch=1, FirePreventionDistrict='6', SupervisorDistrict='9', Neighborhood='Bernal Heights', Location='(37.7388432849018, -122.423948785199)', RowID='020110032-E11', Delay=1.5),\n",
              " Row(CallNumber=20110043, UnitID='B04', IncidentNumber=2003259, CallType='Alarms', CallDate='01/11/2002', WatchDate='01/10/2002', CallFinalDisposition='Other', AvailableDtTm='01/11/2002 06:01:58 AM', Address='1400 Block of SUTTER ST', City='SF', Zipcode=94109, Battalion='B04', StationArea='03', Box='3223', OriginalPriority='3', Priority='3', FinalPriority=3, ALSUnit=False, CallTypeGroup=None, NumAlarms=1, UnitType='CHIEF', UnitSequenceInCallDispatch=2, FirePreventionDistrict='4', SupervisorDistrict='2', Neighborhood='Western Addition', Location='(37.7872890372638, -122.424236212664)', RowID='020110043-B04', Delay=3.4833333)]"
            ]
          },
          "metadata": {},
          "execution_count": 5
        }
      ]
    },
    {
      "cell_type": "code",
      "source": [
        "fire_df.count()"
      ],
      "metadata": {
        "colab": {
          "base_uri": "https://localhost:8080/"
        },
        "id": "70oIJKEa6QnZ",
        "outputId": "fb774723-a283-49c8-c7f8-5216c13c6eb4"
      },
      "execution_count": 6,
      "outputs": [
        {
          "output_type": "execute_result",
          "data": {
            "text/plain": [
              "175296"
            ]
          },
          "metadata": {},
          "execution_count": 6
        }
      ]
    },
    {
      "cell_type": "code",
      "source": [
        "fire_df.select('CallType').distinct().show()"
      ],
      "metadata": {
        "colab": {
          "base_uri": "https://localhost:8080/"
        },
        "id": "CyBaS8BG7IUP",
        "outputId": "ab1e5c5e-6a16-45a8-846d-3a1ed2015b1d"
      },
      "execution_count": 7,
      "outputs": [
        {
          "output_type": "stream",
          "name": "stdout",
          "text": [
            "+--------------------+\n",
            "|            CallType|\n",
            "+--------------------+\n",
            "|Elevator / Escala...|\n",
            "|         Marine Fire|\n",
            "|  Aircraft Emergency|\n",
            "|Confined Space / ...|\n",
            "|      Administrative|\n",
            "|              Alarms|\n",
            "|Odor (Strange / U...|\n",
            "|Citizen Assist / ...|\n",
            "|              HazMat|\n",
            "|Watercraft in Dis...|\n",
            "|           Explosion|\n",
            "|           Oil Spill|\n",
            "|        Vehicle Fire|\n",
            "|  Suspicious Package|\n",
            "|Extrication / Ent...|\n",
            "|               Other|\n",
            "|        Outside Fire|\n",
            "|   Traffic Collision|\n",
            "|       Assist Police|\n",
            "|Gas Leak (Natural...|\n",
            "+--------------------+\n",
            "only showing top 20 rows\n",
            "\n"
          ]
        }
      ]
    },
    {
      "cell_type": "code",
      "source": [
        "fire_df.select('CallType').distinct().count()"
      ],
      "metadata": {
        "colab": {
          "base_uri": "https://localhost:8080/"
        },
        "id": "eWLEVKGY7IeU",
        "outputId": "cd4973dc-7950-48bd-be69-af0aacb8206a"
      },
      "execution_count": 8,
      "outputs": [
        {
          "output_type": "execute_result",
          "data": {
            "text/plain": [
              "30"
            ]
          },
          "metadata": {},
          "execution_count": 8
        }
      ]
    },
    {
      "cell_type": "code",
      "source": [
        "from pyspark.sql.functions import col"
      ],
      "metadata": {
        "id": "muyxLW2E7IiN"
      },
      "execution_count": 10,
      "outputs": []
    },
    {
      "cell_type": "code",
      "source": [
        "fire_df.groupBy('CallType').count().sort(col('count').desc()).show()"
      ],
      "metadata": {
        "colab": {
          "base_uri": "https://localhost:8080/"
        },
        "id": "QWHtkhNF7Ilm",
        "outputId": "500c085a-b611-4457-9b47-3f050261ded1"
      },
      "execution_count": 11,
      "outputs": [
        {
          "output_type": "stream",
          "name": "stdout",
          "text": [
            "+--------------------+------+\n",
            "|            CallType| count|\n",
            "+--------------------+------+\n",
            "|    Medical Incident|113794|\n",
            "|      Structure Fire| 23319|\n",
            "|              Alarms| 19406|\n",
            "|   Traffic Collision|  7013|\n",
            "|Citizen Assist / ...|  2524|\n",
            "|               Other|  2166|\n",
            "|        Outside Fire|  2094|\n",
            "|        Vehicle Fire|   854|\n",
            "|Gas Leak (Natural...|   764|\n",
            "|        Water Rescue|   755|\n",
            "|Odor (Strange / U...|   490|\n",
            "|   Electrical Hazard|   482|\n",
            "|Elevator / Escala...|   453|\n",
            "|Smoke Investigati...|   391|\n",
            "|          Fuel Spill|   193|\n",
            "|              HazMat|   124|\n",
            "|Industrial Accidents|    94|\n",
            "|           Explosion|    89|\n",
            "|Train / Rail Inci...|    57|\n",
            "|  Aircraft Emergency|    36|\n",
            "+--------------------+------+\n",
            "only showing top 20 rows\n",
            "\n"
          ]
        }
      ]
    },
    {
      "cell_type": "code",
      "source": [
        "fire_df.groupBy('CallType', 'UnitType').count().sort(col('count').desc()).show()"
      ],
      "metadata": {
        "colab": {
          "base_uri": "https://localhost:8080/"
        },
        "id": "uPOvfCxf6QqP",
        "outputId": "99bbe123-8110-425e-84aa-918fff583256"
      },
      "execution_count": 12,
      "outputs": [
        {
          "output_type": "stream",
          "name": "stdout",
          "text": [
            "+--------------------+--------------+-----+\n",
            "|            CallType|      UnitType|count|\n",
            "+--------------------+--------------+-----+\n",
            "|    Medical Incident|         MEDIC|50614|\n",
            "|    Medical Incident|        ENGINE|44259|\n",
            "|    Medical Incident|       PRIVATE|10297|\n",
            "|      Structure Fire|        ENGINE| 8840|\n",
            "|      Structure Fire|         TRUCK| 6815|\n",
            "|              Alarms|        ENGINE| 6641|\n",
            "|              Alarms|         TRUCK| 6396|\n",
            "|              Alarms|         CHIEF| 6311|\n",
            "|      Structure Fire|         CHIEF| 4548|\n",
            "|    Medical Incident|RESCUE CAPTAIN| 3582|\n",
            "|   Traffic Collision|        ENGINE| 2873|\n",
            "|    Medical Incident|         TRUCK| 2582|\n",
            "|   Traffic Collision|         MEDIC| 2489|\n",
            "|        Outside Fire|        ENGINE| 1629|\n",
            "|Citizen Assist / ...|        ENGINE| 1410|\n",
            "|      Structure Fire|         MEDIC| 1406|\n",
            "|      Structure Fire|  RESCUE SQUAD| 1320|\n",
            "|    Medical Incident|  RESCUE SQUAD| 1182|\n",
            "|               Other|        ENGINE|  931|\n",
            "|Citizen Assist / ...|         TRUCK|  792|\n",
            "+--------------------+--------------+-----+\n",
            "only showing top 20 rows\n",
            "\n"
          ]
        }
      ]
    },
    {
      "cell_type": "code",
      "source": [
        "fire_df = fire_df.withColumnRenamed('Delay', 'ResponseDelayedinMins') # renaming Delay column\n",
        "fire_df.printSchema()"
      ],
      "metadata": {
        "colab": {
          "base_uri": "https://localhost:8080/"
        },
        "id": "F8QkQYDv6QtH",
        "outputId": "e9996e86-9a66-4563-8be7-93e7507c19e6"
      },
      "execution_count": 15,
      "outputs": [
        {
          "output_type": "stream",
          "name": "stdout",
          "text": [
            "root\n",
            " |-- CallNumber: integer (nullable = true)\n",
            " |-- UnitID: string (nullable = true)\n",
            " |-- IncidentNumber: integer (nullable = true)\n",
            " |-- CallType: string (nullable = true)\n",
            " |-- CallDate: string (nullable = true)\n",
            " |-- WatchDate: string (nullable = true)\n",
            " |-- CallFinalDisposition: string (nullable = true)\n",
            " |-- AvailableDtTm: string (nullable = true)\n",
            " |-- Address: string (nullable = true)\n",
            " |-- City: string (nullable = true)\n",
            " |-- Zipcode: integer (nullable = true)\n",
            " |-- Battalion: string (nullable = true)\n",
            " |-- StationArea: string (nullable = true)\n",
            " |-- Box: string (nullable = true)\n",
            " |-- OriginalPriority: string (nullable = true)\n",
            " |-- Priority: string (nullable = true)\n",
            " |-- FinalPriority: integer (nullable = true)\n",
            " |-- ALSUnit: boolean (nullable = true)\n",
            " |-- CallTypeGroup: string (nullable = true)\n",
            " |-- NumAlarms: integer (nullable = true)\n",
            " |-- UnitType: string (nullable = true)\n",
            " |-- UnitSequenceInCallDispatch: integer (nullable = true)\n",
            " |-- FirePreventionDistrict: string (nullable = true)\n",
            " |-- SupervisorDistrict: string (nullable = true)\n",
            " |-- Neighborhood: string (nullable = true)\n",
            " |-- Location: string (nullable = true)\n",
            " |-- RowID: string (nullable = true)\n",
            " |-- ResponseDelayedinMins: double (nullable = true)\n",
            "\n"
          ]
        }
      ]
    },
    {
      "cell_type": "code",
      "source": [
        "fire_df.select('ResponseDelayedinMins').where(col('ResponseDelayedinMins') > 5).show(5)"
      ],
      "metadata": {
        "colab": {
          "base_uri": "https://localhost:8080/"
        },
        "id": "SKGpv3K88GgS",
        "outputId": "51cfc8be-7e19-49fc-b919-d047651673e6"
      },
      "execution_count": 16,
      "outputs": [
        {
          "output_type": "stream",
          "name": "stdout",
          "text": [
            "+---------------------+\n",
            "|ResponseDelayedinMins|\n",
            "+---------------------+\n",
            "|                 5.35|\n",
            "|                 6.25|\n",
            "|                  5.2|\n",
            "|                  5.6|\n",
            "|                 7.25|\n",
            "+---------------------+\n",
            "only showing top 5 rows\n",
            "\n"
          ]
        }
      ]
    },
    {
      "cell_type": "code",
      "source": [
        "fire_df \\\n",
        "  .select('CallType', 'ZipCode') \\\n",
        "  .where(col('CallType').isNotNull()) \\\n",
        "  .groupBy('CallType', 'ZipCode') \\\n",
        "  .count() \\\n",
        "  .orderBy('count', ascending=False) \\\n",
        "  .show()"
      ],
      "metadata": {
        "colab": {
          "base_uri": "https://localhost:8080/"
        },
        "id": "q-BOJMc38Gjs",
        "outputId": "9e951552-bbc5-4938-ebc7-491bd3fc4fcd"
      },
      "execution_count": 17,
      "outputs": [
        {
          "output_type": "stream",
          "name": "stdout",
          "text": [
            "+----------------+-------+-----+\n",
            "|        CallType|ZipCode|count|\n",
            "+----------------+-------+-----+\n",
            "|Medical Incident|  94102|16130|\n",
            "|Medical Incident|  94103|14775|\n",
            "|Medical Incident|  94110| 9995|\n",
            "|Medical Incident|  94109| 9479|\n",
            "|Medical Incident|  94124| 5885|\n",
            "|Medical Incident|  94112| 5630|\n",
            "|Medical Incident|  94115| 4785|\n",
            "|Medical Incident|  94122| 4323|\n",
            "|Medical Incident|  94107| 4284|\n",
            "|Medical Incident|  94133| 3977|\n",
            "|Medical Incident|  94117| 3522|\n",
            "|Medical Incident|  94134| 3437|\n",
            "|Medical Incident|  94114| 3225|\n",
            "|Medical Incident|  94118| 3104|\n",
            "|Medical Incident|  94121| 2953|\n",
            "|Medical Incident|  94116| 2738|\n",
            "|Medical Incident|  94132| 2594|\n",
            "|  Structure Fire|  94110| 2267|\n",
            "|Medical Incident|  94105| 2258|\n",
            "|  Structure Fire|  94102| 2229|\n",
            "+----------------+-------+-----+\n",
            "only showing top 20 rows\n",
            "\n"
          ]
        }
      ]
    }
  ]
}