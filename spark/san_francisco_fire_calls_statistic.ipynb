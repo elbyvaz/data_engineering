{
  "nbformat": 4,
  "nbformat_minor": 0,
  "metadata": {
    "colab": {
      "provenance": [],
      "authorship_tag": "ABX9TyMMXjqQwK7JsokFGEJuwG5g",
      "include_colab_link": true
    },
    "kernelspec": {
      "name": "python3",
      "display_name": "Python 3"
    },
    "language_info": {
      "name": "python"
    }
  },
  "cells": [
    {
      "cell_type": "markdown",
      "metadata": {
        "id": "view-in-github",
        "colab_type": "text"
      },
      "source": [
        "<a href=\"https://colab.research.google.com/github/elbyvaz/data_engineering/blob/main/spark/san_francisco_fire_calls_statistic.ipynb\" target=\"_parent\"><img src=\"https://colab.research.google.com/assets/colab-badge.svg\" alt=\"Open In Colab\"/></a>"
      ]
    },
    {
      "cell_type": "code",
      "source": [
        "# !pip install pyspark"
      ],
      "metadata": {
        "colab": {
          "base_uri": "https://localhost:8080/"
        },
        "id": "TnFOPkC8_NQw",
        "outputId": "c9afa571-c68a-47a6-aedb-db4f3afa573a"
      },
      "execution_count": 1,
      "outputs": [
        {
          "output_type": "stream",
          "name": "stdout",
          "text": [
            "Collecting pyspark\n",
            "  Downloading pyspark-3.5.0.tar.gz (316.9 MB)\n",
            "\u001b[2K     \u001b[90m━━━━━━━━━━━━━━━━━━━━━━━━━━━━━━━━━━━━━━━━\u001b[0m \u001b[32m316.9/316.9 MB\u001b[0m \u001b[31m3.1 MB/s\u001b[0m eta \u001b[36m0:00:00\u001b[0m\n",
            "\u001b[?25h  Preparing metadata (setup.py) ... \u001b[?25l\u001b[?25hdone\n",
            "Requirement already satisfied: py4j==0.10.9.7 in /usr/local/lib/python3.10/dist-packages (from pyspark) (0.10.9.7)\n",
            "Building wheels for collected packages: pyspark\n",
            "  Building wheel for pyspark (setup.py) ... \u001b[?25l\u001b[?25hdone\n",
            "  Created wheel for pyspark: filename=pyspark-3.5.0-py2.py3-none-any.whl size=317425345 sha256=609b952f895015c08743ec996c8a32e8f235358c6f29920dbe4232609065db7e\n",
            "  Stored in directory: /root/.cache/pip/wheels/41/4e/10/c2cf2467f71c678cfc8a6b9ac9241e5e44a01940da8fbb17fc\n",
            "Successfully built pyspark\n",
            "Installing collected packages: pyspark\n",
            "Successfully installed pyspark-3.5.0\n"
          ]
        }
      ]
    },
    {
      "cell_type": "code",
      "source": [
        "# using spark and veritying its version\n",
        "from pyspark.sql import SparkSession\n",
        "\n",
        "spark = SparkSession \\\n",
        "                    .builder \\\n",
        "                    .appName('Statistic of SF fire calls notebook') \\\n",
        "                    .getOrCreate()\n",
        "\n",
        "spark.version"
      ],
      "metadata": {
        "colab": {
          "base_uri": "https://localhost:8080/",
          "height": 36
        },
        "id": "Gcr5r7fA_NTn",
        "outputId": "d557e85c-e0cf-49fa-f39c-1cff2fe0f28d"
      },
      "execution_count": 2,
      "outputs": [
        {
          "output_type": "execute_result",
          "data": {
            "text/plain": [
              "'3.5.0'"
            ],
            "application/vnd.google.colaboratory.intrinsic+json": {
              "type": "string"
            }
          },
          "metadata": {},
          "execution_count": 2
        }
      ]
    },
    {
      "cell_type": "code",
      "source": [
        "# dataframe\n",
        "fire_df = spark.read.csv('/content/sample_data/sf-fire-calls.csv', header=True, inferSchema=True)\n",
        "fire_df.printSchema()"
      ],
      "metadata": {
        "colab": {
          "base_uri": "https://localhost:8080/"
        },
        "id": "_Durqy_m_NWv",
        "outputId": "d534b8c6-6778-4c9b-82a0-3e8113c7c440"
      },
      "execution_count": 4,
      "outputs": [
        {
          "output_type": "stream",
          "name": "stdout",
          "text": [
            "root\n",
            " |-- CallNumber: integer (nullable = true)\n",
            " |-- UnitID: string (nullable = true)\n",
            " |-- IncidentNumber: integer (nullable = true)\n",
            " |-- CallType: string (nullable = true)\n",
            " |-- CallDate: string (nullable = true)\n",
            " |-- WatchDate: string (nullable = true)\n",
            " |-- CallFinalDisposition: string (nullable = true)\n",
            " |-- AvailableDtTm: string (nullable = true)\n",
            " |-- Address: string (nullable = true)\n",
            " |-- City: string (nullable = true)\n",
            " |-- Zipcode: integer (nullable = true)\n",
            " |-- Battalion: string (nullable = true)\n",
            " |-- StationArea: string (nullable = true)\n",
            " |-- Box: string (nullable = true)\n",
            " |-- OriginalPriority: string (nullable = true)\n",
            " |-- Priority: string (nullable = true)\n",
            " |-- FinalPriority: integer (nullable = true)\n",
            " |-- ALSUnit: boolean (nullable = true)\n",
            " |-- CallTypeGroup: string (nullable = true)\n",
            " |-- NumAlarms: integer (nullable = true)\n",
            " |-- UnitType: string (nullable = true)\n",
            " |-- UnitSequenceInCallDispatch: integer (nullable = true)\n",
            " |-- FirePreventionDistrict: string (nullable = true)\n",
            " |-- SupervisorDistrict: string (nullable = true)\n",
            " |-- Neighborhood: string (nullable = true)\n",
            " |-- Location: string (nullable = true)\n",
            " |-- RowID: string (nullable = true)\n",
            " |-- Delay: double (nullable = true)\n",
            "\n"
          ]
        }
      ]
    },
    {
      "cell_type": "code",
      "source": [
        "fire_df.head(5)"
      ],
      "metadata": {
        "colab": {
          "base_uri": "https://localhost:8080/"
        },
        "id": "likzDR61_NZq",
        "outputId": "91193663-a995-4e1f-e9ac-65d3465fe0cf"
      },
      "execution_count": 5,
      "outputs": [
        {
          "output_type": "execute_result",
          "data": {
            "text/plain": [
              "[Row(CallNumber=20110016, UnitID='T13', IncidentNumber=2003235, CallType='Structure Fire', CallDate='01/11/2002', WatchDate='01/10/2002', CallFinalDisposition='Other', AvailableDtTm='01/11/2002 01:51:44 AM', Address='2000 Block of CALIFORNIA ST', City='SF', Zipcode=94109, Battalion='B04', StationArea='38', Box='3362', OriginalPriority='3', Priority='3', FinalPriority=3, ALSUnit=False, CallTypeGroup=None, NumAlarms=1, UnitType='TRUCK', UnitSequenceInCallDispatch=2, FirePreventionDistrict='4', SupervisorDistrict='5', Neighborhood='Pacific Heights', Location='(37.7895840679362, -122.428071912459)', RowID='020110016-T13', Delay=2.95),\n",
              " Row(CallNumber=20110022, UnitID='M17', IncidentNumber=2003241, CallType='Medical Incident', CallDate='01/11/2002', WatchDate='01/10/2002', CallFinalDisposition='Other', AvailableDtTm='01/11/2002 03:01:18 AM', Address='0 Block of SILVERVIEW DR', City='SF', Zipcode=94124, Battalion='B10', StationArea='42', Box='6495', OriginalPriority='3', Priority='3', FinalPriority=3, ALSUnit=True, CallTypeGroup=None, NumAlarms=1, UnitType='MEDIC', UnitSequenceInCallDispatch=1, FirePreventionDistrict='10', SupervisorDistrict='10', Neighborhood='Bayview Hunters Point', Location='(37.7337623673897, -122.396113802632)', RowID='020110022-M17', Delay=4.7),\n",
              " Row(CallNumber=20110023, UnitID='M41', IncidentNumber=2003242, CallType='Medical Incident', CallDate='01/11/2002', WatchDate='01/10/2002', CallFinalDisposition='Other', AvailableDtTm='01/11/2002 02:39:50 AM', Address='MARKET ST/MCALLISTER ST', City='SF', Zipcode=94102, Battalion='B03', StationArea='01', Box='1455', OriginalPriority='3', Priority='3', FinalPriority=3, ALSUnit=True, CallTypeGroup=None, NumAlarms=1, UnitType='MEDIC', UnitSequenceInCallDispatch=2, FirePreventionDistrict='3', SupervisorDistrict='6', Neighborhood='Tenderloin', Location='(37.7811772186856, -122.411699931232)', RowID='020110023-M41', Delay=2.4333334),\n",
              " Row(CallNumber=20110032, UnitID='E11', IncidentNumber=2003250, CallType='Vehicle Fire', CallDate='01/11/2002', WatchDate='01/10/2002', CallFinalDisposition='Other', AvailableDtTm='01/11/2002 04:16:46 AM', Address='APPLETON AV/MISSION ST', City='SF', Zipcode=94110, Battalion='B06', StationArea='32', Box='5626', OriginalPriority='3', Priority='3', FinalPriority=3, ALSUnit=False, CallTypeGroup=None, NumAlarms=1, UnitType='ENGINE', UnitSequenceInCallDispatch=1, FirePreventionDistrict='6', SupervisorDistrict='9', Neighborhood='Bernal Heights', Location='(37.7388432849018, -122.423948785199)', RowID='020110032-E11', Delay=1.5),\n",
              " Row(CallNumber=20110043, UnitID='B04', IncidentNumber=2003259, CallType='Alarms', CallDate='01/11/2002', WatchDate='01/10/2002', CallFinalDisposition='Other', AvailableDtTm='01/11/2002 06:01:58 AM', Address='1400 Block of SUTTER ST', City='SF', Zipcode=94109, Battalion='B04', StationArea='03', Box='3223', OriginalPriority='3', Priority='3', FinalPriority=3, ALSUnit=False, CallTypeGroup=None, NumAlarms=1, UnitType='CHIEF', UnitSequenceInCallDispatch=2, FirePreventionDistrict='4', SupervisorDistrict='2', Neighborhood='Western Addition', Location='(37.7872890372638, -122.424236212664)', RowID='020110043-B04', Delay=3.4833333)]"
            ]
          },
          "metadata": {},
          "execution_count": 5
        }
      ]
    },
    {
      "cell_type": "code",
      "source": [
        "# descritive statistic\n",
        "# stddev: desvio padrao\n",
        "fire_df.describe(['Delay']).show()"
      ],
      "metadata": {
        "colab": {
          "base_uri": "https://localhost:8080/"
        },
        "id": "we4yfxhS_Ncf",
        "outputId": "92202449-4783-471b-d719-1ba8f14ce0cb"
      },
      "execution_count": 6,
      "outputs": [
        {
          "output_type": "stream",
          "name": "stdout",
          "text": [
            "+-------+------------------+\n",
            "|summary|             Delay|\n",
            "+-------+------------------+\n",
            "|  count|            175296|\n",
            "|   mean|3.8923641541750342|\n",
            "| stddev| 9.378286170882737|\n",
            "|    min|       0.016666668|\n",
            "|    max|           1844.55|\n",
            "+-------+------------------+\n",
            "\n"
          ]
        }
      ]
    },
    {
      "cell_type": "code",
      "source": [
        "# summary shows quarters (quartis): 25, 50 and 75%\n",
        "fire_df.select('Delay').summary().show()"
      ],
      "metadata": {
        "colab": {
          "base_uri": "https://localhost:8080/"
        },
        "id": "cuTKqef7_Nfk",
        "outputId": "b8bf0c87-5349-4efa-be3a-13efeb6c22ef"
      },
      "execution_count": 7,
      "outputs": [
        {
          "output_type": "stream",
          "name": "stdout",
          "text": [
            "+-------+------------------+\n",
            "|summary|             Delay|\n",
            "+-------+------------------+\n",
            "|  count|            175296|\n",
            "|   mean|3.8923641541750342|\n",
            "| stddev| 9.378286170882737|\n",
            "|    min|       0.016666668|\n",
            "|    25%|         2.1833334|\n",
            "|    50%|         3.0833333|\n",
            "|    75%|          4.233333|\n",
            "|    max|           1844.55|\n",
            "+-------+------------------+\n",
            "\n"
          ]
        }
      ]
    },
    {
      "cell_type": "code",
      "source": [
        "fire_df.select('NumAlarms').summary().show()"
      ],
      "metadata": {
        "colab": {
          "base_uri": "https://localhost:8080/"
        },
        "id": "0QaBTvch_Nii",
        "outputId": "35c06dc4-9b6b-4685-a237-6b741eaddbfe"
      },
      "execution_count": 8,
      "outputs": [
        {
          "output_type": "stream",
          "name": "stdout",
          "text": [
            "+-------+-------------------+\n",
            "|summary|          NumAlarms|\n",
            "+-------+-------------------+\n",
            "|  count|             175296|\n",
            "|   mean| 1.0049858525009128|\n",
            "| stddev|0.09811952680742073|\n",
            "|    min|                  1|\n",
            "|    25%|                  1|\n",
            "|    50%|                  1|\n",
            "|    75%|                  1|\n",
            "|    max|                  5|\n",
            "+-------+-------------------+\n",
            "\n"
          ]
        }
      ]
    }
  ]
}