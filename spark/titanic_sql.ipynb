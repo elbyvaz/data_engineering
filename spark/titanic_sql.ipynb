{
  "nbformat": 4,
  "nbformat_minor": 0,
  "metadata": {
    "colab": {
      "provenance": [],
      "authorship_tag": "ABX9TyMOBnmiQYBUipChy6gck55g",
      "include_colab_link": true
    },
    "kernelspec": {
      "name": "python3",
      "display_name": "Python 3"
    },
    "language_info": {
      "name": "python"
    }
  },
  "cells": [
    {
      "cell_type": "markdown",
      "metadata": {
        "id": "view-in-github",
        "colab_type": "text"
      },
      "source": [
        "<a href=\"https://colab.research.google.com/github/elbyvaz/data_engineering/blob/main/spark/titanic_sql.ipynb\" target=\"_parent\"><img src=\"https://colab.research.google.com/assets/colab-badge.svg\" alt=\"Open In Colab\"/></a>"
      ]
    },
    {
      "cell_type": "code",
      "execution_count": null,
      "metadata": {
        "id": "1vGqzsMqy4DQ"
      },
      "outputs": [],
      "source": [
        "!pip install pyspark"
      ]
    },
    {
      "cell_type": "code",
      "source": [
        "from pyspark.sql import SparkSession\n",
        "\n",
        "# Spark entry point\n",
        "spark = SparkSession \\\n",
        "    .builder \\\n",
        "    .appName(\"Titanic SQL\") \\\n",
        "    .getOrCreate()\n",
        "\n",
        "spark.version"
      ],
      "metadata": {
        "id": "CpmE-ta3y-X9"
      },
      "execution_count": null,
      "outputs": []
    },
    {
      "cell_type": "code",
      "source": [
        "# Arquivo https://www.kaggle.com/c/titanic/data?select=train.csv\n",
        "titanic_df = spark.read.csv('C:/Users/pedro.guerra/Downloads/AULAS/XPE/engenharia-dados/big-data-spark/aula2/titanic-3.csv',header='True',inferSchema='True')\n",
        "\n",
        "titanic_df.printSchema()"
      ],
      "metadata": {
        "id": "CIkWu3N2y-bP"
      },
      "execution_count": null,
      "outputs": []
    },
    {
      "cell_type": "code",
      "source": [
        "titanic_df.count()"
      ],
      "metadata": {
        "id": "HiFiKX7ay-eO"
      },
      "execution_count": null,
      "outputs": []
    },
    {
      "cell_type": "code",
      "source": [
        "titanic_df.groupBy('survived').count().show()"
      ],
      "metadata": {
        "id": "1YMWIdHzy-g-"
      },
      "execution_count": null,
      "outputs": []
    },
    {
      "cell_type": "code",
      "source": [
        "titanic_df.createOrReplaceTempView('table')\n",
        "\n",
        "spark.sql(\"SELECT survived, count(*) FROM table GROUP BY survived\").show()"
      ],
      "metadata": {
        "id": "UFud-KWhy-jz"
      },
      "execution_count": null,
      "outputs": []
    },
    {
      "cell_type": "code",
      "source": [
        "titanic_df.groupBy('survived').agg({\"Fare\": \"avg\"}).show()"
      ],
      "metadata": {
        "id": "-dxOOie2y-mp"
      },
      "execution_count": null,
      "outputs": []
    },
    {
      "cell_type": "code",
      "source": [
        "spark.sql(\"SELECT survived, avg(fare) FROM table GROUP BY survived\").show()"
      ],
      "metadata": {
        "id": "CwAmdizxy-pY"
      },
      "execution_count": null,
      "outputs": []
    },
    {
      "cell_type": "code",
      "source": [
        "spark.sql(\"SELECT age, count(*) as age_count FROM table WHERE survived == 1 GROUP BY age ORDER BY age_count DESC\").show()\n"
      ],
      "metadata": {
        "id": "3C_yuIcOy-su"
      },
      "execution_count": null,
      "outputs": []
    },
    {
      "cell_type": "code",
      "source": [
        "# UDFs ajudam plugar funções complexas no SQL.\n",
        "\n",
        "def uppercase(str):\n",
        "    return str.upper()\n",
        "\n",
        "def ml_model(data):\n",
        "    return model(data)\n",
        "\n",
        "def eh_maior_idade(age):\n",
        "    return age is None or age > 18\n",
        "\n",
        "\n",
        "spark.udf.register(\"uppercase\", uppercase)\n",
        "spark.udf.register(\"eh_maior_idade\", eh_maior_idade)\n",
        "\n",
        "spark.sql(\"SELECT uppercase(Name), Name, age from table WHERE eh_maior_idade(Age) == True\").show(5)\n"
      ],
      "metadata": {
        "id": "nX25T6wHzOoQ"
      },
      "execution_count": null,
      "outputs": []
    },
    {
      "cell_type": "code",
      "source": [
        "# https://sparkbyexamples.com/spark/spark-write-dataframe-to-csv-file/\n",
        "\n",
        "spark.sql(\"SELECT uppercase(Name), Age from table\").write.option(\"header\", True).format(\"csv\").save(\"names2.csv\")"
      ],
      "metadata": {
        "id": "loSZpFygzOs8"
      },
      "execution_count": null,
      "outputs": []
    },
    {
      "cell_type": "code",
      "source": [
        "# https://sparkbyexamples.com/spark/spark-read-and-write-json-file/\n",
        "\n",
        "\n",
        "spark.sql(\"SELECT age, count(*) as age_count FROM table WHERE survived == 1 GROUP BY age ORDER BY age_count DESC\").write.format(\"json\").save(\"ages2.json\")"
      ],
      "metadata": {
        "id": "0w4mbqFxzRlR"
      },
      "execution_count": null,
      "outputs": []
    },
    {
      "cell_type": "code",
      "source": [
        "# https://spark.apache.org/docs/latest/sql-data-sources-jdbc.html\n",
        "\n",
        "\n",
        "# Saving data to a JDBC source\n",
        "#jdbcDF.write \\\n",
        "#    .format(\"jdbc\") \\\n",
        "#    .option(\"url\", \"jdbc:postgresql:dbserver\") \\\n",
        "#    .option(\"dbtable\", \"schema.tablename\") \\\n",
        "#    .option(\"user\", \"username\") \\\n",
        "#    .option(\"password\", \"password\") \\\n",
        "#    .save()\n",
        ""
      ],
      "metadata": {
        "id": "UD9-7MfNzRoF"
      },
      "execution_count": null,
      "outputs": []
    }
  ]
}